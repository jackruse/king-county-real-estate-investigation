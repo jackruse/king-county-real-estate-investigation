{
 "cells": [
  {
   "cell_type": "markdown",
   "metadata": {},
   "source": [
    "'mental' notes in case there's a bad model:\n",
    "* reexamine waterfront nulls\n",
    "* reexamine outliers\n",
    "* scale zero-inflated features"
   ]
  },
  {
   "cell_type": "markdown",
   "metadata": {},
   "source": [
    "# Import Data"
   ]
  },
  {
   "cell_type": "code",
   "execution_count": 374,
   "metadata": {
    "ExecuteTime": {
     "end_time": "2020-10-15T21:56:43.553886Z",
     "start_time": "2020-10-15T21:56:43.540913Z"
    }
   },
   "outputs": [],
   "source": [
    "# set up environment with imports\n",
    "import pandas as pd\n",
    "import numpy as np\n",
    "import seaborn as sns\n",
    "import matplotlib.pyplot as plt\n",
    "%matplotlib inline\n",
    "from scipy import stats\n",
    "plt.style.use('seaborn')\n",
    "pd.set_option('display.max_columns', None)\n",
    "import datetime as dt\n",
    "import pickle\n",
    "\n",
    "import warnings\n",
    "warnings.filterwarnings(\"ignore\")"
   ]
  },
  {
   "cell_type": "code",
   "execution_count": 375,
   "metadata": {
    "ExecuteTime": {
     "end_time": "2020-10-15T21:56:43.615718Z",
     "start_time": "2020-10-15T21:56:43.554855Z"
    }
   },
   "outputs": [
    {
     "data": {
      "text/html": [
       "<div>\n",
       "<style scoped>\n",
       "    .dataframe tbody tr th:only-of-type {\n",
       "        vertical-align: middle;\n",
       "    }\n",
       "\n",
       "    .dataframe tbody tr th {\n",
       "        vertical-align: top;\n",
       "    }\n",
       "\n",
       "    .dataframe thead th {\n",
       "        text-align: right;\n",
       "    }\n",
       "</style>\n",
       "<table border=\"1\" class=\"dataframe\">\n",
       "  <thead>\n",
       "    <tr style=\"text-align: right;\">\n",
       "      <th></th>\n",
       "      <th>id</th>\n",
       "      <th>date</th>\n",
       "      <th>price</th>\n",
       "      <th>bedrooms</th>\n",
       "      <th>bathrooms</th>\n",
       "      <th>sqft_living</th>\n",
       "      <th>sqft_lot</th>\n",
       "      <th>floors</th>\n",
       "      <th>waterfront</th>\n",
       "      <th>view</th>\n",
       "      <th>condition</th>\n",
       "      <th>grade</th>\n",
       "      <th>sqft_above</th>\n",
       "      <th>sqft_basement</th>\n",
       "      <th>yr_built</th>\n",
       "      <th>yr_renovated</th>\n",
       "      <th>zipcode</th>\n",
       "      <th>lat</th>\n",
       "      <th>long</th>\n",
       "      <th>sqft_living15</th>\n",
       "      <th>sqft_lot15</th>\n",
       "    </tr>\n",
       "  </thead>\n",
       "  <tbody>\n",
       "    <tr>\n",
       "      <td>0</td>\n",
       "      <td>7129300520</td>\n",
       "      <td>10/13/2014</td>\n",
       "      <td>221900.0</td>\n",
       "      <td>3</td>\n",
       "      <td>1.00</td>\n",
       "      <td>1180</td>\n",
       "      <td>5650</td>\n",
       "      <td>1.0</td>\n",
       "      <td>NaN</td>\n",
       "      <td>0.0</td>\n",
       "      <td>3</td>\n",
       "      <td>7</td>\n",
       "      <td>1180</td>\n",
       "      <td>0.0</td>\n",
       "      <td>1955</td>\n",
       "      <td>0.0</td>\n",
       "      <td>98178</td>\n",
       "      <td>47.5112</td>\n",
       "      <td>-122.257</td>\n",
       "      <td>1340</td>\n",
       "      <td>5650</td>\n",
       "    </tr>\n",
       "    <tr>\n",
       "      <td>1</td>\n",
       "      <td>6414100192</td>\n",
       "      <td>12/9/2014</td>\n",
       "      <td>538000.0</td>\n",
       "      <td>3</td>\n",
       "      <td>2.25</td>\n",
       "      <td>2570</td>\n",
       "      <td>7242</td>\n",
       "      <td>2.0</td>\n",
       "      <td>0.0</td>\n",
       "      <td>0.0</td>\n",
       "      <td>3</td>\n",
       "      <td>7</td>\n",
       "      <td>2170</td>\n",
       "      <td>400.0</td>\n",
       "      <td>1951</td>\n",
       "      <td>1991.0</td>\n",
       "      <td>98125</td>\n",
       "      <td>47.7210</td>\n",
       "      <td>-122.319</td>\n",
       "      <td>1690</td>\n",
       "      <td>7639</td>\n",
       "    </tr>\n",
       "    <tr>\n",
       "      <td>2</td>\n",
       "      <td>5631500400</td>\n",
       "      <td>2/25/2015</td>\n",
       "      <td>180000.0</td>\n",
       "      <td>2</td>\n",
       "      <td>1.00</td>\n",
       "      <td>770</td>\n",
       "      <td>10000</td>\n",
       "      <td>1.0</td>\n",
       "      <td>0.0</td>\n",
       "      <td>0.0</td>\n",
       "      <td>3</td>\n",
       "      <td>6</td>\n",
       "      <td>770</td>\n",
       "      <td>0.0</td>\n",
       "      <td>1933</td>\n",
       "      <td>NaN</td>\n",
       "      <td>98028</td>\n",
       "      <td>47.7379</td>\n",
       "      <td>-122.233</td>\n",
       "      <td>2720</td>\n",
       "      <td>8062</td>\n",
       "    </tr>\n",
       "    <tr>\n",
       "      <td>3</td>\n",
       "      <td>2487200875</td>\n",
       "      <td>12/9/2014</td>\n",
       "      <td>604000.0</td>\n",
       "      <td>4</td>\n",
       "      <td>3.00</td>\n",
       "      <td>1960</td>\n",
       "      <td>5000</td>\n",
       "      <td>1.0</td>\n",
       "      <td>0.0</td>\n",
       "      <td>0.0</td>\n",
       "      <td>5</td>\n",
       "      <td>7</td>\n",
       "      <td>1050</td>\n",
       "      <td>910.0</td>\n",
       "      <td>1965</td>\n",
       "      <td>0.0</td>\n",
       "      <td>98136</td>\n",
       "      <td>47.5208</td>\n",
       "      <td>-122.393</td>\n",
       "      <td>1360</td>\n",
       "      <td>5000</td>\n",
       "    </tr>\n",
       "    <tr>\n",
       "      <td>4</td>\n",
       "      <td>1954400510</td>\n",
       "      <td>2/18/2015</td>\n",
       "      <td>510000.0</td>\n",
       "      <td>3</td>\n",
       "      <td>2.00</td>\n",
       "      <td>1680</td>\n",
       "      <td>8080</td>\n",
       "      <td>1.0</td>\n",
       "      <td>0.0</td>\n",
       "      <td>0.0</td>\n",
       "      <td>3</td>\n",
       "      <td>8</td>\n",
       "      <td>1680</td>\n",
       "      <td>0.0</td>\n",
       "      <td>1987</td>\n",
       "      <td>0.0</td>\n",
       "      <td>98074</td>\n",
       "      <td>47.6168</td>\n",
       "      <td>-122.045</td>\n",
       "      <td>1800</td>\n",
       "      <td>7503</td>\n",
       "    </tr>\n",
       "  </tbody>\n",
       "</table>\n",
       "</div>"
      ],
      "text/plain": [
       "           id        date     price  bedrooms  bathrooms  sqft_living  \\\n",
       "0  7129300520  10/13/2014  221900.0         3       1.00         1180   \n",
       "1  6414100192   12/9/2014  538000.0         3       2.25         2570   \n",
       "2  5631500400   2/25/2015  180000.0         2       1.00          770   \n",
       "3  2487200875   12/9/2014  604000.0         4       3.00         1960   \n",
       "4  1954400510   2/18/2015  510000.0         3       2.00         1680   \n",
       "\n",
       "   sqft_lot  floors  waterfront  view  condition  grade  sqft_above  \\\n",
       "0      5650     1.0         NaN   0.0          3      7        1180   \n",
       "1      7242     2.0         0.0   0.0          3      7        2170   \n",
       "2     10000     1.0         0.0   0.0          3      6         770   \n",
       "3      5000     1.0         0.0   0.0          5      7        1050   \n",
       "4      8080     1.0         0.0   0.0          3      8        1680   \n",
       "\n",
       "  sqft_basement  yr_built  yr_renovated  zipcode      lat     long  \\\n",
       "0           0.0      1955           0.0    98178  47.5112 -122.257   \n",
       "1         400.0      1951        1991.0    98125  47.7210 -122.319   \n",
       "2           0.0      1933           NaN    98028  47.7379 -122.233   \n",
       "3         910.0      1965           0.0    98136  47.5208 -122.393   \n",
       "4           0.0      1987           0.0    98074  47.6168 -122.045   \n",
       "\n",
       "   sqft_living15  sqft_lot15  \n",
       "0           1340        5650  \n",
       "1           1690        7639  \n",
       "2           2720        8062  \n",
       "3           1360        5000  \n",
       "4           1800        7503  "
      ]
     },
     "execution_count": 375,
     "metadata": {},
     "output_type": "execute_result"
    }
   ],
   "source": [
    "# import housing data to dataframe and preview\n",
    "df = pd.read_csv('../databases/kc-house-data.csv')\n",
    "df.head()"
   ]
  },
  {
   "cell_type": "markdown",
   "metadata": {},
   "source": [
    "# Clean Data"
   ]
  },
  {
   "cell_type": "markdown",
   "metadata": {},
   "source": [
    "## Investigate Duplicates\n",
    "Let's see if there are any duplicates and what it means.\n",
    "\n",
    "The first thing we should do is just drop any complete duplicates because there shouldn't be any completely identical observations."
   ]
  },
  {
   "cell_type": "code",
   "execution_count": 376,
   "metadata": {
    "ExecuteTime": {
     "end_time": "2020-10-15T21:56:43.646391Z",
     "start_time": "2020-10-15T21:56:43.616690Z"
    }
   },
   "outputs": [
    {
     "data": {
      "text/plain": [
       "0"
      ]
     },
     "execution_count": 376,
     "metadata": {},
     "output_type": "execute_result"
    }
   ],
   "source": [
    "# check for complete duplicates\n",
    "df.duplicated().sum()"
   ]
  },
  {
   "cell_type": "markdown",
   "metadata": {},
   "source": [
    "No complete duplicates. So, now we'll look more closely at individual fields. Let's check if there are any columns that categorically should not have duplicates."
   ]
  },
  {
   "cell_type": "code",
   "execution_count": 377,
   "metadata": {
    "ExecuteTime": {
     "end_time": "2020-10-15T21:56:43.662348Z",
     "start_time": "2020-10-15T21:56:43.647388Z"
    }
   },
   "outputs": [
    {
     "data": {
      "text/plain": [
       "Index(['id', 'date', 'price', 'bedrooms', 'bathrooms', 'sqft_living',\n",
       "       'sqft_lot', 'floors', 'waterfront', 'view', 'condition', 'grade',\n",
       "       'sqft_above', 'sqft_basement', 'yr_built', 'yr_renovated', 'zipcode',\n",
       "       'lat', 'long', 'sqft_living15', 'sqft_lot15'],\n",
       "      dtype='object')"
      ]
     },
     "execution_count": 377,
     "metadata": {},
     "output_type": "execute_result"
    }
   ],
   "source": [
    "# print out list of columns\n",
    "df.columns"
   ]
  },
  {
   "cell_type": "markdown",
   "metadata": {},
   "source": [
    "Everything seems to check out here. If there are some duplicate issues, they aren't immediately obvious.\n",
    "\n",
    "`id` might seem like it shouldn't have duplicates but it's possible the same house was sold more than once."
   ]
  },
  {
   "cell_type": "code",
   "execution_count": 378,
   "metadata": {
    "ExecuteTime": {
     "end_time": "2020-10-15T21:56:43.677309Z",
     "start_time": "2020-10-15T21:56:43.663345Z"
    }
   },
   "outputs": [
    {
     "data": {
      "text/plain": [
       "17588     9/24/2014\n",
       "17589    12/15/2014\n",
       "17590     3/11/2015\n",
       "Name: date, dtype: object"
      ]
     },
     "execution_count": 378,
     "metadata": {},
     "output_type": "execute_result"
    }
   ],
   "source": [
    "# check one of the id's to see if it was sold on different dates\n",
    "df[df['id'] == 795000620]['date']"
   ]
  },
  {
   "cell_type": "markdown",
   "metadata": {},
   "source": [
    "## Investigate Placeholders\n",
    "We should address placeholders before official nulls because placeholders often represent nulls."
   ]
  },
  {
   "cell_type": "code",
   "execution_count": 379,
   "metadata": {
    "ExecuteTime": {
     "end_time": "2020-10-15T21:56:43.755603Z",
     "start_time": "2020-10-15T21:56:43.678305Z"
    }
   },
   "outputs": [
    {
     "data": {
      "text/plain": [
       "795000620     3\n",
       "1825069031    2\n",
       "2019200220    2\n",
       "7129304540    2\n",
       "1781500435    2\n",
       "             ..\n",
       "7812801125    1\n",
       "4364700875    1\n",
       "3021059276    1\n",
       "880000205     1\n",
       "1777500160    1\n",
       "Name: id, Length: 21420, dtype: int64"
      ]
     },
     "metadata": {},
     "output_type": "display_data"
    },
    {
     "data": {
      "text/plain": [
       "6/23/2014    142\n",
       "6/25/2014    131\n",
       "6/26/2014    131\n",
       "7/8/2014     127\n",
       "4/27/2015    126\n",
       "            ... \n",
       "11/2/2014      1\n",
       "5/27/2015      1\n",
       "8/3/2014       1\n",
       "2/15/2015      1\n",
       "8/30/2014      1\n",
       "Name: date, Length: 372, dtype: int64"
      ]
     },
     "metadata": {},
     "output_type": "display_data"
    },
    {
     "data": {
      "text/plain": [
       "350000.0    172\n",
       "450000.0    172\n",
       "550000.0    159\n",
       "500000.0    152\n",
       "425000.0    150\n",
       "           ... \n",
       "870515.0      1\n",
       "336950.0      1\n",
       "386100.0      1\n",
       "176250.0      1\n",
       "884744.0      1\n",
       "Name: price, Length: 3622, dtype: int64"
      ]
     },
     "metadata": {},
     "output_type": "display_data"
    },
    {
     "data": {
      "text/plain": [
       "3     9824\n",
       "4     6882\n",
       "2     2760\n",
       "5     1601\n",
       "6      272\n",
       "1      196\n",
       "7       38\n",
       "8       13\n",
       "9        6\n",
       "10       3\n",
       "11       1\n",
       "33       1\n",
       "Name: bedrooms, dtype: int64"
      ]
     },
     "metadata": {},
     "output_type": "display_data"
    },
    {
     "data": {
      "text/plain": [
       "2.50    5377\n",
       "1.00    3851\n",
       "1.75    3048\n",
       "2.25    2047\n",
       "2.00    1930\n",
       "1.50    1445\n",
       "2.75    1185\n",
       "3.00     753\n",
       "3.50     731\n",
       "3.25     589\n",
       "3.75     155\n",
       "4.00     136\n",
       "4.50     100\n",
       "4.25      79\n",
       "0.75      71\n",
       "4.75      23\n",
       "5.00      21\n",
       "5.25      13\n",
       "5.50      10\n",
       "1.25       9\n",
       "6.00       6\n",
       "5.75       4\n",
       "0.50       4\n",
       "8.00       2\n",
       "6.25       2\n",
       "6.75       2\n",
       "6.50       2\n",
       "7.50       1\n",
       "7.75       1\n",
       "Name: bathrooms, dtype: int64"
      ]
     },
     "metadata": {},
     "output_type": "display_data"
    },
    {
     "data": {
      "text/plain": [
       "1300    138\n",
       "1400    135\n",
       "1440    133\n",
       "1660    129\n",
       "1010    129\n",
       "       ... \n",
       "4970      1\n",
       "2905      1\n",
       "2793      1\n",
       "4810      1\n",
       "1975      1\n",
       "Name: sqft_living, Length: 1034, dtype: int64"
      ]
     },
     "metadata": {},
     "output_type": "display_data"
    },
    {
     "data": {
      "text/plain": [
       "5000      358\n",
       "6000      290\n",
       "4000      251\n",
       "7200      220\n",
       "7500      119\n",
       "         ... \n",
       "1448        1\n",
       "38884       1\n",
       "17313       1\n",
       "35752       1\n",
       "315374      1\n",
       "Name: sqft_lot, Length: 9776, dtype: int64"
      ]
     },
     "metadata": {},
     "output_type": "display_data"
    },
    {
     "data": {
      "text/plain": [
       "1.0    10673\n",
       "2.0     8235\n",
       "1.5     1910\n",
       "3.0      611\n",
       "2.5      161\n",
       "3.5        7\n",
       "Name: floors, dtype: int64"
      ]
     },
     "metadata": {},
     "output_type": "display_data"
    },
    {
     "data": {
      "text/plain": [
       "0.0    19075\n",
       "1.0      146\n",
       "Name: waterfront, dtype: int64"
      ]
     },
     "metadata": {},
     "output_type": "display_data"
    },
    {
     "data": {
      "text/plain": [
       "0.0    19422\n",
       "2.0      957\n",
       "3.0      508\n",
       "1.0      330\n",
       "4.0      317\n",
       "Name: view, dtype: int64"
      ]
     },
     "metadata": {},
     "output_type": "display_data"
    },
    {
     "data": {
      "text/plain": [
       "3    14020\n",
       "4     5677\n",
       "5     1701\n",
       "2      170\n",
       "1       29\n",
       "Name: condition, dtype: int64"
      ]
     },
     "metadata": {},
     "output_type": "display_data"
    },
    {
     "data": {
      "text/plain": [
       "7     8974\n",
       "8     6065\n",
       "9     2615\n",
       "6     2038\n",
       "10    1134\n",
       "11     399\n",
       "5      242\n",
       "12      89\n",
       "4       27\n",
       "13      13\n",
       "3        1\n",
       "Name: grade, dtype: int64"
      ]
     },
     "metadata": {},
     "output_type": "display_data"
    },
    {
     "data": {
      "text/plain": [
       "1300    212\n",
       "1010    210\n",
       "1200    206\n",
       "1220    192\n",
       "1140    184\n",
       "       ... \n",
       "2601      1\n",
       "440       1\n",
       "2473      1\n",
       "2441      1\n",
       "1975      1\n",
       "Name: sqft_above, Length: 942, dtype: int64"
      ]
     },
     "metadata": {},
     "output_type": "display_data"
    },
    {
     "data": {
      "text/plain": [
       "0.0       12826\n",
       "?           454\n",
       "600.0       217\n",
       "500.0       209\n",
       "700.0       208\n",
       "          ...  \n",
       "1245.0        1\n",
       "792.0         1\n",
       "3500.0        1\n",
       "1481.0        1\n",
       "283.0         1\n",
       "Name: sqft_basement, Length: 304, dtype: int64"
      ]
     },
     "metadata": {},
     "output_type": "display_data"
    },
    {
     "data": {
      "text/plain": [
       "2014    559\n",
       "2006    453\n",
       "2005    450\n",
       "2004    433\n",
       "2003    420\n",
       "       ... \n",
       "1933     30\n",
       "1901     29\n",
       "1902     27\n",
       "1935     24\n",
       "1934     21\n",
       "Name: yr_built, Length: 116, dtype: int64"
      ]
     },
     "metadata": {},
     "output_type": "display_data"
    },
    {
     "data": {
      "text/plain": [
       "0.0       17011\n",
       "2014.0       73\n",
       "2003.0       31\n",
       "2013.0       31\n",
       "2007.0       30\n",
       "          ...  \n",
       "1946.0        1\n",
       "1959.0        1\n",
       "1971.0        1\n",
       "1951.0        1\n",
       "1954.0        1\n",
       "Name: yr_renovated, Length: 70, dtype: int64"
      ]
     },
     "metadata": {},
     "output_type": "display_data"
    },
    {
     "data": {
      "text/plain": [
       "98103    602\n",
       "98038    589\n",
       "98115    583\n",
       "98052    574\n",
       "98117    553\n",
       "        ... \n",
       "98102    104\n",
       "98010    100\n",
       "98024     80\n",
       "98148     57\n",
       "98039     50\n",
       "Name: zipcode, Length: 70, dtype: int64"
      ]
     },
     "metadata": {},
     "output_type": "display_data"
    },
    {
     "data": {
      "text/plain": [
       "47.6624    17\n",
       "47.5491    17\n",
       "47.5322    17\n",
       "47.6846    17\n",
       "47.6711    16\n",
       "           ..\n",
       "47.2785     1\n",
       "47.4162     1\n",
       "47.3870     1\n",
       "47.2313     1\n",
       "47.2715     1\n",
       "Name: lat, Length: 5033, dtype: int64"
      ]
     },
     "metadata": {},
     "output_type": "display_data"
    },
    {
     "data": {
      "text/plain": [
       "-122.290    115\n",
       "-122.300    111\n",
       "-122.362    104\n",
       "-122.291    100\n",
       "-122.372     99\n",
       "           ... \n",
       "-121.403      1\n",
       "-121.804      1\n",
       "-121.726      1\n",
       "-121.895      1\n",
       "-121.893      1\n",
       "Name: long, Length: 751, dtype: int64"
      ]
     },
     "metadata": {},
     "output_type": "display_data"
    },
    {
     "data": {
      "text/plain": [
       "1540    197\n",
       "1440    195\n",
       "1560    192\n",
       "1500    180\n",
       "1460    169\n",
       "       ... \n",
       "4890      1\n",
       "2873      1\n",
       "952       1\n",
       "3193      1\n",
       "2049      1\n",
       "Name: sqft_living15, Length: 777, dtype: int64"
      ]
     },
     "metadata": {},
     "output_type": "display_data"
    },
    {
     "data": {
      "text/plain": [
       "5000      427\n",
       "4000      356\n",
       "6000      288\n",
       "7200      210\n",
       "4800      145\n",
       "         ... \n",
       "11036       1\n",
       "8989        1\n",
       "871200      1\n",
       "809         1\n",
       "6147        1\n",
       "Name: sqft_lot15, Length: 8682, dtype: int64"
      ]
     },
     "metadata": {},
     "output_type": "display_data"
    }
   ],
   "source": [
    "# look for weird values\n",
    "for col in df.columns:\n",
    "    display(df[col].value_counts())"
   ]
  },
  {
   "cell_type": "markdown",
   "metadata": {},
   "source": [
    "Almost everything looks normal.\n",
    "\n",
    "But `sqft_basement` has some `?` values that we should replace with nulls."
   ]
  },
  {
   "cell_type": "code",
   "execution_count": 380,
   "metadata": {
    "ExecuteTime": {
     "end_time": "2020-10-15T21:56:43.771548Z",
     "start_time": "2020-10-15T21:56:43.756595Z"
    }
   },
   "outputs": [],
   "source": [
    "# replace '?' with null values\n",
    "df['sqft_basement'].replace('?', np.nan, inplace=True)"
   ]
  },
  {
   "cell_type": "code",
   "execution_count": 381,
   "metadata": {
    "ExecuteTime": {
     "end_time": "2020-10-15T21:56:43.787485Z",
     "start_time": "2020-10-15T21:56:43.773524Z"
    }
   },
   "outputs": [
    {
     "data": {
      "text/plain": [
       "0.0       12826\n",
       "NaN         454\n",
       "600.0       217\n",
       "500.0       209\n",
       "700.0       208\n",
       "          ...  \n",
       "374.0         1\n",
       "295.0         1\n",
       "1852.0        1\n",
       "65.0          1\n",
       "1548.0        1\n",
       "Name: sqft_basement, Length: 304, dtype: int64"
      ]
     },
     "execution_count": 381,
     "metadata": {},
     "output_type": "execute_result"
    }
   ],
   "source": [
    "# admire our handywork\n",
    "df['sqft_basement'].value_counts(dropna=False)"
   ]
  },
  {
   "cell_type": "markdown",
   "metadata": {},
   "source": [
    "## Investigate Nulls"
   ]
  },
  {
   "cell_type": "code",
   "execution_count": 382,
   "metadata": {
    "ExecuteTime": {
     "end_time": "2020-10-15T21:56:43.803455Z",
     "start_time": "2020-10-15T21:56:43.788483Z"
    }
   },
   "outputs": [
    {
     "data": {
      "text/html": [
       "<div>\n",
       "<style scoped>\n",
       "    .dataframe tbody tr th:only-of-type {\n",
       "        vertical-align: middle;\n",
       "    }\n",
       "\n",
       "    .dataframe tbody tr th {\n",
       "        vertical-align: top;\n",
       "    }\n",
       "\n",
       "    .dataframe thead th {\n",
       "        text-align: right;\n",
       "    }\n",
       "</style>\n",
       "<table border=\"1\" class=\"dataframe\">\n",
       "  <thead>\n",
       "    <tr style=\"text-align: right;\">\n",
       "      <th></th>\n",
       "      <th>index</th>\n",
       "      <th>0</th>\n",
       "    </tr>\n",
       "  </thead>\n",
       "  <tbody>\n",
       "    <tr>\n",
       "      <td>0</td>\n",
       "      <td>id</td>\n",
       "      <td>0</td>\n",
       "    </tr>\n",
       "    <tr>\n",
       "      <td>1</td>\n",
       "      <td>date</td>\n",
       "      <td>0</td>\n",
       "    </tr>\n",
       "    <tr>\n",
       "      <td>2</td>\n",
       "      <td>price</td>\n",
       "      <td>0</td>\n",
       "    </tr>\n",
       "    <tr>\n",
       "      <td>3</td>\n",
       "      <td>bedrooms</td>\n",
       "      <td>0</td>\n",
       "    </tr>\n",
       "    <tr>\n",
       "      <td>4</td>\n",
       "      <td>bathrooms</td>\n",
       "      <td>0</td>\n",
       "    </tr>\n",
       "    <tr>\n",
       "      <td>5</td>\n",
       "      <td>sqft_living</td>\n",
       "      <td>0</td>\n",
       "    </tr>\n",
       "    <tr>\n",
       "      <td>6</td>\n",
       "      <td>sqft_lot</td>\n",
       "      <td>0</td>\n",
       "    </tr>\n",
       "    <tr>\n",
       "      <td>7</td>\n",
       "      <td>floors</td>\n",
       "      <td>0</td>\n",
       "    </tr>\n",
       "    <tr>\n",
       "      <td>8</td>\n",
       "      <td>waterfront</td>\n",
       "      <td>2376</td>\n",
       "    </tr>\n",
       "    <tr>\n",
       "      <td>9</td>\n",
       "      <td>view</td>\n",
       "      <td>63</td>\n",
       "    </tr>\n",
       "    <tr>\n",
       "      <td>10</td>\n",
       "      <td>condition</td>\n",
       "      <td>0</td>\n",
       "    </tr>\n",
       "    <tr>\n",
       "      <td>11</td>\n",
       "      <td>grade</td>\n",
       "      <td>0</td>\n",
       "    </tr>\n",
       "    <tr>\n",
       "      <td>12</td>\n",
       "      <td>sqft_above</td>\n",
       "      <td>0</td>\n",
       "    </tr>\n",
       "    <tr>\n",
       "      <td>13</td>\n",
       "      <td>sqft_basement</td>\n",
       "      <td>454</td>\n",
       "    </tr>\n",
       "    <tr>\n",
       "      <td>14</td>\n",
       "      <td>yr_built</td>\n",
       "      <td>0</td>\n",
       "    </tr>\n",
       "    <tr>\n",
       "      <td>15</td>\n",
       "      <td>yr_renovated</td>\n",
       "      <td>3842</td>\n",
       "    </tr>\n",
       "    <tr>\n",
       "      <td>16</td>\n",
       "      <td>zipcode</td>\n",
       "      <td>0</td>\n",
       "    </tr>\n",
       "    <tr>\n",
       "      <td>17</td>\n",
       "      <td>lat</td>\n",
       "      <td>0</td>\n",
       "    </tr>\n",
       "    <tr>\n",
       "      <td>18</td>\n",
       "      <td>long</td>\n",
       "      <td>0</td>\n",
       "    </tr>\n",
       "    <tr>\n",
       "      <td>19</td>\n",
       "      <td>sqft_living15</td>\n",
       "      <td>0</td>\n",
       "    </tr>\n",
       "    <tr>\n",
       "      <td>20</td>\n",
       "      <td>sqft_lot15</td>\n",
       "      <td>0</td>\n",
       "    </tr>\n",
       "  </tbody>\n",
       "</table>\n",
       "</div>"
      ],
      "text/plain": [
       "            index     0\n",
       "0              id     0\n",
       "1            date     0\n",
       "2           price     0\n",
       "3        bedrooms     0\n",
       "4       bathrooms     0\n",
       "5     sqft_living     0\n",
       "6        sqft_lot     0\n",
       "7          floors     0\n",
       "8      waterfront  2376\n",
       "9            view    63\n",
       "10      condition     0\n",
       "11          grade     0\n",
       "12     sqft_above     0\n",
       "13  sqft_basement   454\n",
       "14       yr_built     0\n",
       "15   yr_renovated  3842\n",
       "16        zipcode     0\n",
       "17            lat     0\n",
       "18           long     0\n",
       "19  sqft_living15     0\n",
       "20     sqft_lot15     0"
      ]
     },
     "metadata": {},
     "output_type": "display_data"
    }
   ],
   "source": [
    "# get number nulls by feature and put it into a df\n",
    "nulls = df.isna().sum().reset_index()\n",
    "\n",
    "# view\n",
    "display(nulls)"
   ]
  },
  {
   "cell_type": "code",
   "execution_count": 383,
   "metadata": {
    "ExecuteTime": {
     "end_time": "2020-10-15T21:56:43.819419Z",
     "start_time": "2020-10-15T21:56:43.804441Z"
    }
   },
   "outputs": [
    {
     "data": {
      "text/html": [
       "<div>\n",
       "<style scoped>\n",
       "    .dataframe tbody tr th:only-of-type {\n",
       "        vertical-align: middle;\n",
       "    }\n",
       "\n",
       "    .dataframe tbody tr th {\n",
       "        vertical-align: top;\n",
       "    }\n",
       "\n",
       "    .dataframe thead th {\n",
       "        text-align: right;\n",
       "    }\n",
       "</style>\n",
       "<table border=\"1\" class=\"dataframe\">\n",
       "  <thead>\n",
       "    <tr style=\"text-align: right;\">\n",
       "      <th></th>\n",
       "      <th>index</th>\n",
       "      <th>0</th>\n",
       "      <th>percentage</th>\n",
       "    </tr>\n",
       "  </thead>\n",
       "  <tbody>\n",
       "    <tr>\n",
       "      <td>8</td>\n",
       "      <td>waterfront</td>\n",
       "      <td>2376</td>\n",
       "      <td>11.001528</td>\n",
       "    </tr>\n",
       "    <tr>\n",
       "      <td>9</td>\n",
       "      <td>view</td>\n",
       "      <td>63</td>\n",
       "      <td>0.291707</td>\n",
       "    </tr>\n",
       "    <tr>\n",
       "      <td>13</td>\n",
       "      <td>sqft_basement</td>\n",
       "      <td>454</td>\n",
       "      <td>2.102144</td>\n",
       "    </tr>\n",
       "    <tr>\n",
       "      <td>15</td>\n",
       "      <td>yr_renovated</td>\n",
       "      <td>3842</td>\n",
       "      <td>17.789508</td>\n",
       "    </tr>\n",
       "  </tbody>\n",
       "</table>\n",
       "</div>"
      ],
      "text/plain": [
       "            index     0  percentage\n",
       "8      waterfront  2376   11.001528\n",
       "9            view    63    0.291707\n",
       "13  sqft_basement   454    2.102144\n",
       "15   yr_renovated  3842   17.789508"
      ]
     },
     "metadata": {},
     "output_type": "display_data"
    }
   ],
   "source": [
    "# list percentage nulls by feature (only greater than 0)\n",
    "nulls['percentage'] = nulls[0] / len(df) * 100\n",
    "display(nulls[nulls['percentage'] > 0])"
   ]
  },
  {
   "cell_type": "markdown",
   "metadata": {},
   "source": [
    "Not too shabby. Most features don't have any nulls.\n",
    "\n",
    "### Address `view` nulls\n",
    "\n",
    "`view` has less than 1%, so, we can probably just drop those rows but let's make sure there's no pattern to the nulls."
   ]
  },
  {
   "cell_type": "code",
   "execution_count": 384,
   "metadata": {
    "ExecuteTime": {
     "end_time": "2020-10-15T21:56:43.835370Z",
     "start_time": "2020-10-15T21:56:43.820398Z"
    }
   },
   "outputs": [
    {
     "name": "stdout",
     "output_type": "stream",
     "text": [
      "***** percent zipcodes represented in view nulls *****\n"
     ]
    },
    {
     "data": {
      "text/plain": [
       "0.5571428571428572"
      ]
     },
     "metadata": {},
     "output_type": "display_data"
    },
    {
     "name": "stdout",
     "output_type": "stream",
     "text": [
      "***** zipcodes changed by more than 1%  by dropping *****\n"
     ]
    },
    {
     "data": {
      "text/plain": [
       "3"
      ]
     },
     "metadata": {},
     "output_type": "display_data"
    },
    {
     "name": "stdout",
     "output_type": "stream",
     "text": [
      "***** zipcodes changed by more than 1.3%  by dropping *****\n"
     ]
    },
    {
     "data": {
      "text/plain": [
       "0"
      ]
     },
     "metadata": {},
     "output_type": "display_data"
    }
   ],
   "source": [
    "# get a df with just the view nulls\n",
    "view_isna = df[df['view'].isna()]\n",
    "\n",
    "# see the percentage zipcodes represented in nulls\n",
    "print('***** percent zipcodes represented in view nulls *****')\n",
    "display(view_isna['zipcode'].nunique() / df['zipcode'].nunique())\n",
    "\n",
    "# calculate the percentage dropped for each zip\n",
    "percent_loss = view_isna['zipcode'].value_counts() / df['zipcode'].value_counts()\n",
    "\n",
    "# find how many will be different by more than 1%\n",
    "print('***** zipcodes changed by more than 1%  by dropping *****')\n",
    "display((percent_loss > .01).sum())\n",
    "\n",
    "# find how many zips will be impacted by more than 1.3%\n",
    "print('***** zipcodes changed by more than 1.3%  by dropping *****')\n",
    "display((percent_loss > .013).sum())"
   ]
  },
  {
   "cell_type": "markdown",
   "metadata": {},
   "source": [
    "3 of the zipcodes will be impacted more than 1% but none will be impacted more than 1.5%. So, I feel okay about dropping them from a numerical perspective.\n",
    "\n",
    "Let's do one last sanity check by actually looking at the feature to get to know it better."
   ]
  },
  {
   "cell_type": "code",
   "execution_count": 385,
   "metadata": {
    "ExecuteTime": {
     "end_time": "2020-10-15T21:56:43.851314Z",
     "start_time": "2020-10-15T21:56:43.836357Z"
    }
   },
   "outputs": [
    {
     "data": {
      "text/plain": [
       "0.0    0.899292\n",
       "2.0    0.044312\n",
       "3.0    0.023522\n",
       "1.0    0.015280\n",
       "4.0    0.014678\n",
       "NaN    0.002917\n",
       "Name: view, dtype: float64"
      ]
     },
     "execution_count": 385,
     "metadata": {},
     "output_type": "execute_result"
    }
   ],
   "source": [
    "# print view feature\n",
    "df['view'].value_counts(normalize=True, dropna=False)"
   ]
  },
  {
   "cell_type": "markdown",
   "metadata": {},
   "source": [
    "On second thought, I think I'll just impute the median. The views don't seem to have particuarly compelling data; so, why lose valuable data in other columns over that? For reference, the column definition is: **view** - Has been viewed"
   ]
  },
  {
   "cell_type": "code",
   "execution_count": 386,
   "metadata": {
    "ExecuteTime": {
     "end_time": "2020-10-15T21:56:43.867293Z",
     "start_time": "2020-10-15T21:56:43.852313Z"
    }
   },
   "outputs": [],
   "source": [
    "# let's make a function to compare the imputed median histogram \n",
    "# with the original data\n",
    "def compare_impute_hist(df, col):\n",
    "    \"\"\"Plots a histogram of col with and without imputed median on nulls.\n",
    "    \n",
    "    Used to compare the distribution shape before and after median imputation.\n",
    "    \n",
    "    Keyword arguments:\n",
    "    df -- Pandas dataframe\n",
    "    col -- Feature name string\n",
    "    \"\"\"\n",
    "    df[col].hist(bins='auto')\n",
    "    plt.show()\n",
    "    df[col].fillna(df[col].median()).hist(bins='auto')\n",
    "    plt.show()"
   ]
  },
  {
   "cell_type": "code",
   "execution_count": 387,
   "metadata": {
    "ExecuteTime": {
     "end_time": "2020-10-15T21:56:44.134579Z",
     "start_time": "2020-10-15T21:56:43.868304Z"
    }
   },
   "outputs": [
    {
     "data": {
      "image/png": "[encoded data removed]",
      "text/plain": [
       "<Figure size 576x396 with 1 Axes>"
      ]
     },
     "metadata": {},
     "output_type": "display_data"
    },
    {
     "data": {
      "image/png": "[encoded data removed]",
      "text/plain": [
       "<Figure size 576x396 with 1 Axes>"
      ]
     },
     "metadata": {},
     "output_type": "display_data"
    },
    {
     "data": {
      "text/plain": [
       "0.0"
      ]
     },
     "execution_count": 387,
     "metadata": {},
     "output_type": "execute_result"
    }
   ],
   "source": [
    "# let's see what both histograms look like\n",
    "compare_impute_hist(df, 'view')\n",
    "# print out the imputation value\n",
    "df['view'].median()"
   ]
  },
  {
   "cell_type": "markdown",
   "metadata": {},
   "source": [
    "Not feeling terrible about that difference. Let's use it."
   ]
  },
  {
   "cell_type": "code",
   "execution_count": 388,
   "metadata": {
    "ExecuteTime": {
     "end_time": "2020-10-15T21:56:44.150528Z",
     "start_time": "2020-10-15T21:56:44.135557Z"
    }
   },
   "outputs": [],
   "source": [
    "# We ended up using this snippet every time.\n",
    "# So, we very non-generalizably threw it into a function\n",
    "def impute_median_with_comparison(df, col):\n",
    "    \"\"\"impute median to col in df and compare value_counts head before and after\n",
    "    \n",
    "    Keyword arguments:\n",
    "    df -- Pandas dataframe\n",
    "    col -- Feature name string\n",
    "    \"\"\"\n",
    "    # print original for comparison\n",
    "    display(df[col].value_counts(dropna=False, normalize=True).head())\n",
    "    # impute median\n",
    "    df[col].fillna(df[col].median(), inplace=True)\n",
    "\n",
    "    # admire our handywork\n",
    "    display(df[col].value_counts(dropna=False, normalize=True).head())"
   ]
  },
  {
   "cell_type": "code",
   "execution_count": 389,
   "metadata": {
    "ExecuteTime": {
     "end_time": "2020-10-15T21:56:44.165495Z",
     "start_time": "2020-10-15T21:56:44.151515Z"
    }
   },
   "outputs": [
    {
     "data": {
      "text/plain": [
       "0.0    0.899292\n",
       "2.0    0.044312\n",
       "3.0    0.023522\n",
       "1.0    0.015280\n",
       "4.0    0.014678\n",
       "Name: view, dtype: float64"
      ]
     },
     "metadata": {},
     "output_type": "display_data"
    },
    {
     "data": {
      "text/plain": [
       "0.0    0.902209\n",
       "2.0    0.044312\n",
       "3.0    0.023522\n",
       "1.0    0.015280\n",
       "4.0    0.014678\n",
       "Name: view, dtype: float64"
      ]
     },
     "metadata": {},
     "output_type": "display_data"
    }
   ],
   "source": [
    "# impute median\n",
    "impute_median_with_comparison(df, 'view')"
   ]
  },
  {
   "cell_type": "markdown",
   "metadata": {},
   "source": [
    "### Address `sqft_basement` Nulls\n",
    "I already examined `sqft_basement` and I think I should impute using median.\n",
    "\n",
    "Let's see what the histograms look like, though."
   ]
  },
  {
   "cell_type": "code",
   "execution_count": 390,
   "metadata": {
    "ExecuteTime": {
     "end_time": "2020-10-15T21:56:44.674148Z",
     "start_time": "2020-10-15T21:56:44.166499Z"
    }
   },
   "outputs": [
    {
     "data": {
      "image/png": "[encoded data removed]",
      "text/plain": [
       "<Figure size 576x396 with 1 Axes>"
      ]
     },
     "metadata": {},
     "output_type": "display_data"
    },
    {
     "data": {
      "image/png": "[encoded data removed]",
      "text/plain": [
       "<Figure size 576x396 with 1 Axes>"
      ]
     },
     "metadata": {},
     "output_type": "display_data"
    },
    {
     "data": {
      "text/plain": [
       "0.0"
      ]
     },
     "metadata": {},
     "output_type": "display_data"
    }
   ],
   "source": [
    "# convert basement to float\n",
    "df['sqft_basement'] = df['sqft_basement'].astype(dtype='float')\n",
    "# let's see what both histograms look like\n",
    "compare_impute_hist(df, 'sqft_basement')\n",
    "# print out imputation value\n",
    "display(df['sqft_basement'].median())"
   ]
  },
  {
   "cell_type": "markdown",
   "metadata": {},
   "source": [
    "Other than this having some outliers, those appear to be unrelated to the median value. So, we can impute."
   ]
  },
  {
   "cell_type": "code",
   "execution_count": 391,
   "metadata": {
    "ExecuteTime": {
     "end_time": "2020-10-15T21:56:44.690093Z",
     "start_time": "2020-10-15T21:56:44.675139Z"
    }
   },
   "outputs": [
    {
     "data": {
      "text/plain": [
       "0.0      0.593879\n",
       "NaN      0.021021\n",
       "600.0    0.010048\n",
       "500.0    0.009677\n",
       "700.0    0.009631\n",
       "Name: sqft_basement, dtype: float64"
      ]
     },
     "metadata": {},
     "output_type": "display_data"
    },
    {
     "data": {
      "text/plain": [
       "0.0      0.614900\n",
       "600.0    0.010048\n",
       "500.0    0.009677\n",
       "700.0    0.009631\n",
       "800.0    0.009307\n",
       "Name: sqft_basement, dtype: float64"
      ]
     },
     "metadata": {},
     "output_type": "display_data"
    }
   ],
   "source": [
    "# impute median\n",
    "impute_median_with_comparison(df, 'sqft_basement')"
   ]
  },
  {
   "cell_type": "markdown",
   "metadata": {},
   "source": [
    "### Address `waterfront` Nulls\n",
    "Let's begin by looking at the actual feature this time and see if we can avoid any unnecessary hardship"
   ]
  },
  {
   "cell_type": "code",
   "execution_count": 392,
   "metadata": {
    "ExecuteTime": {
     "end_time": "2020-10-15T21:56:44.722011Z",
     "start_time": "2020-10-15T21:56:44.691098Z"
    }
   },
   "outputs": [
    {
     "data": {
      "text/plain": [
       "0.0    0.883225\n",
       "NaN    0.110015\n",
       "1.0    0.006760\n",
       "Name: waterfront, dtype: float64"
      ]
     },
     "execution_count": 392,
     "metadata": {},
     "output_type": "execute_result"
    }
   ],
   "source": [
    "# examine waterfront\n",
    "df['waterfront'].value_counts(dropna=False, normalize=True)"
   ]
  },
  {
   "cell_type": "markdown",
   "metadata": {},
   "source": [
    "`waterfront` is actually quite similar to `view` in the fact that the vast majority of observations are equal to 0. I'm more hesitant about imputing 11% of the observations. However, as with `view`, `waterfront` does not appear to be that powerful of a feature compared to others because of a lack of variation; so, I'll impute using the median and if my model demands `waterfront` or I hit a wall, I can come back later and perhaps try another method. For reference, the definition for `waterfront`: **waterfront** - House which has a view to a waterfront"
   ]
  },
  {
   "cell_type": "code",
   "execution_count": 393,
   "metadata": {
    "ExecuteTime": {
     "end_time": "2020-10-15T21:56:44.976329Z",
     "start_time": "2020-10-15T21:56:44.722999Z"
    }
   },
   "outputs": [
    {
     "data": {
      "image/png": "[encoded data removed]",
      "text/plain": [
       "<Figure size 576x396 with 1 Axes>"
      ]
     },
     "metadata": {},
     "output_type": "display_data"
    },
    {
     "data": {
      "image/png": "[encoded data removed]",
      "text/plain": [
       "<Figure size 576x396 with 1 Axes>"
      ]
     },
     "metadata": {},
     "output_type": "display_data"
    },
    {
     "data": {
      "text/plain": [
       "0.0"
      ]
     },
     "execution_count": 393,
     "metadata": {},
     "output_type": "execute_result"
    }
   ],
   "source": [
    "# let's see what both histograms look like\n",
    "compare_impute_hist(df, 'waterfront')\n",
    "\n",
    "# print out imputation value\n",
    "df['waterfront'].median()"
   ]
  },
  {
   "cell_type": "markdown",
   "metadata": {},
   "source": [
    "Again, imputation value is 0 and doesn't appear to make a significant difference to the distribution."
   ]
  },
  {
   "cell_type": "code",
   "execution_count": 394,
   "metadata": {
    "ExecuteTime": {
     "end_time": "2020-10-15T21:56:44.992286Z",
     "start_time": "2020-10-15T21:56:44.977344Z"
    }
   },
   "outputs": [
    {
     "data": {
      "text/plain": [
       "0.0    0.883225\n",
       "NaN    0.110015\n",
       "1.0    0.006760\n",
       "Name: waterfront, dtype: float64"
      ]
     },
     "metadata": {},
     "output_type": "display_data"
    },
    {
     "data": {
      "text/plain": [
       "0.0    0.99324\n",
       "1.0    0.00676\n",
       "Name: waterfront, dtype: float64"
      ]
     },
     "metadata": {},
     "output_type": "display_data"
    }
   ],
   "source": [
    "# impute median\n",
    "impute_median_with_comparison(df, 'waterfront')"
   ]
  },
  {
   "cell_type": "markdown",
   "metadata": {},
   "source": [
    "### Address `yr_renovated` Nulls\n",
    "Lastly, let's look at `yr_renovated`, which has the largest percentage of nulls at nearly 18%"
   ]
  },
  {
   "cell_type": "code",
   "execution_count": 395,
   "metadata": {
    "ExecuteTime": {
     "end_time": "2020-10-15T21:56:45.008243Z",
     "start_time": "2020-10-15T21:56:44.993281Z"
    }
   },
   "outputs": [
    {
     "data": {
      "text/plain": [
       "0.0       0.787656\n",
       "NaN       0.177895\n",
       "2014.0    0.003380\n",
       "2003.0    0.001435\n",
       "2013.0    0.001435\n",
       "            ...   \n",
       "1944.0    0.000046\n",
       "1948.0    0.000046\n",
       "1976.0    0.000046\n",
       "1934.0    0.000046\n",
       "1953.0    0.000046\n",
       "Name: yr_renovated, Length: 71, dtype: float64"
      ]
     },
     "execution_count": 395,
     "metadata": {},
     "output_type": "execute_result"
    }
   ],
   "source": [
    "# examine yr_renovated\n",
    "df['yr_renovated'].value_counts(dropna=False, normalize=True)"
   ]
  },
  {
   "cell_type": "markdown",
   "metadata": {},
   "source": [
    "This is a little more tricky because it's one part continuous and one part categorical. So, it may make sense to jump ahead and do some feature engineering at this point. \n",
    "\n",
    "Let's have a look at the histogram to see how we may want to bin these values into categories that both make sense and are full enough to have statistical value."
   ]
  },
  {
   "cell_type": "code",
   "execution_count": 396,
   "metadata": {
    "ExecuteTime": {
     "end_time": "2020-10-15T21:56:45.246612Z",
     "start_time": "2020-10-15T21:56:45.011234Z"
    }
   },
   "outputs": [
    {
     "data": {
      "image/png": "[encoded data removed]",
      "text/plain": [
       "<Figure size 576x396 with 1 Axes>"
      ]
     },
     "metadata": {},
     "output_type": "display_data"
    },
    {
     "data": {
      "image/png": "[encoded data removed]",
      "text/plain": [
       "<Figure size 576x396 with 1 Axes>"
      ]
     },
     "metadata": {},
     "output_type": "display_data"
    },
    {
     "data": {
      "text/plain": [
       "count     744.000000\n",
       "mean     1995.928763\n",
       "std        15.599946\n",
       "min      1934.000000\n",
       "25%      1987.000000\n",
       "50%      2000.000000\n",
       "75%      2007.250000\n",
       "max      2015.000000\n",
       "Name: yr_renovated, dtype: float64"
      ]
     },
     "execution_count": 396,
     "metadata": {},
     "output_type": "execute_result"
    }
   ],
   "source": [
    "# get yr_renovated excluding 0's\n",
    "df_yr_ren_no_zeroes = df[df['yr_renovated'] > 0]\n",
    "\n",
    "# plot histogram\n",
    "df_yr_ren_no_zeroes['yr_renovated'].hist(bins='auto')\n",
    "plt.show()\n",
    "\n",
    "# plot boxplot\n",
    "df_yr_ren_no_zeroes.boxplot('yr_renovated')\n",
    "plt.show()\n",
    "\n",
    "# get some more info\n",
    "df_yr_ren_no_zeroes['yr_renovated'].describe()"
   ]
  },
  {
   "cell_type": "markdown",
   "metadata": {},
   "source": [
    "We can't easily bin the data without imputing some values. So, we're going to take the same tack as with the others using median imputation."
   ]
  },
  {
   "cell_type": "code",
   "execution_count": 397,
   "metadata": {
    "ExecuteTime": {
     "end_time": "2020-10-15T21:56:45.516864Z",
     "start_time": "2020-10-15T21:56:45.247627Z"
    }
   },
   "outputs": [
    {
     "data": {
      "image/png": "[encoded data removed]",
      "text/plain": [
       "<Figure size 576x396 with 1 Axes>"
      ]
     },
     "metadata": {},
     "output_type": "display_data"
    },
    {
     "data": {
      "image/png": "[encoded data removed]",
      "text/plain": [
       "<Figure size 576x396 with 1 Axes>"
      ]
     },
     "metadata": {},
     "output_type": "display_data"
    },
    {
     "data": {
      "text/plain": [
       "0.0"
      ]
     },
     "execution_count": 397,
     "metadata": {},
     "output_type": "execute_result"
    }
   ],
   "source": [
    "# let's see what both histograms look like\n",
    "compare_impute_hist(df, 'yr_renovated')\n",
    "\n",
    "# print imputation value\n",
    "df['yr_renovated'].median()"
   ]
  },
  {
   "cell_type": "markdown",
   "metadata": {},
   "source": [
    "This one feels a little different because of the sheer number of imputations. However, I think we'll just keep this in the back of our minds for now because median imputation is simpler and faster than KNN and imputation is almost always preferable to dropping (since dropping assumes randomness in nulls which often introduces bias). We could potentially engineer this feature a bit if we find some overall problems but, otherwise, I think we'll forge ahead and impute median."
   ]
  },
  {
   "cell_type": "code",
   "execution_count": 398,
   "metadata": {
    "ExecuteTime": {
     "end_time": "2020-10-15T21:56:45.532822Z",
     "start_time": "2020-10-15T21:56:45.517861Z"
    }
   },
   "outputs": [
    {
     "data": {
      "text/plain": [
       "0.0       0.787656\n",
       "NaN       0.177895\n",
       "2014.0    0.003380\n",
       "2003.0    0.001435\n",
       "2013.0    0.001435\n",
       "Name: yr_renovated, dtype: float64"
      ]
     },
     "metadata": {},
     "output_type": "display_data"
    },
    {
     "data": {
      "text/plain": [
       "0.0       0.965551\n",
       "2014.0    0.003380\n",
       "2003.0    0.001435\n",
       "2013.0    0.001435\n",
       "2007.0    0.001389\n",
       "Name: yr_renovated, dtype: float64"
      ]
     },
     "metadata": {},
     "output_type": "display_data"
    }
   ],
   "source": [
    "# impute median\n",
    "impute_median_with_comparison(df, 'yr_renovated')"
   ]
  },
  {
   "cell_type": "markdown",
   "metadata": {},
   "source": [
    "## Check Data Types\n",
    "Now that we've gotten rid of null values, we can step back and make sure the data types all make sense."
   ]
  },
  {
   "cell_type": "code",
   "execution_count": 399,
   "metadata": {
    "ExecuteTime": {
     "end_time": "2020-10-15T21:56:45.548805Z",
     "start_time": "2020-10-15T21:56:45.533819Z"
    }
   },
   "outputs": [
    {
     "name": "stdout",
     "output_type": "stream",
     "text": [
      "<class 'pandas.core.frame.DataFrame'>\n",
      "RangeIndex: 21597 entries, 0 to 21596\n",
      "Data columns (total 21 columns):\n",
      "id               21597 non-null int64\n",
      "date             21597 non-null object\n",
      "price            21597 non-null float64\n",
      "bedrooms         21597 non-null int64\n",
      "bathrooms        21597 non-null float64\n",
      "sqft_living      21597 non-null int64\n",
      "sqft_lot         21597 non-null int64\n",
      "floors           21597 non-null float64\n",
      "waterfront       21597 non-null float64\n",
      "view             21597 non-null float64\n",
      "condition        21597 non-null int64\n",
      "grade            21597 non-null int64\n",
      "sqft_above       21597 non-null int64\n",
      "sqft_basement    21597 non-null float64\n",
      "yr_built         21597 non-null int64\n",
      "yr_renovated     21597 non-null float64\n",
      "zipcode          21597 non-null int64\n",
      "lat              21597 non-null float64\n",
      "long             21597 non-null float64\n",
      "sqft_living15    21597 non-null int64\n",
      "sqft_lot15       21597 non-null int64\n",
      "dtypes: float64(9), int64(11), object(1)\n",
      "memory usage: 3.5+ MB\n"
     ]
    }
   ],
   "source": [
    "df.info()"
   ]
  },
  {
   "cell_type": "markdown",
   "metadata": {},
   "source": [
    "* `date` should probably be datetime type\n",
    "* `bathrooms` should be examined\n",
    "* `floors` should be examined\n",
    "* `grade` should be examined\n",
    "* `yr_renovated` should be examined for fractions"
   ]
  },
  {
   "cell_type": "markdown",
   "metadata": {},
   "source": [
    "### Convert `date` to datetime type"
   ]
  },
  {
   "cell_type": "code",
   "execution_count": 400,
   "metadata": {
    "ExecuteTime": {
     "end_time": "2020-10-15T21:56:45.564764Z",
     "start_time": "2020-10-15T21:56:45.549777Z"
    }
   },
   "outputs": [
    {
     "data": {
      "text/plain": [
       "6/23/2014    142\n",
       "6/25/2014    131\n",
       "6/26/2014    131\n",
       "7/8/2014     127\n",
       "4/27/2015    126\n",
       "            ... \n",
       "11/2/2014      1\n",
       "5/27/2015      1\n",
       "8/3/2014       1\n",
       "2/15/2015      1\n",
       "8/30/2014      1\n",
       "Name: date, Length: 372, dtype: int64"
      ]
     },
     "execution_count": 400,
     "metadata": {},
     "output_type": "execute_result"
    }
   ],
   "source": [
    "# let's take a look\n",
    "df['date'].value_counts()"
   ]
  },
  {
   "cell_type": "markdown",
   "metadata": {},
   "source": [
    "It seems like they follow the same format. Let's see how conversion goes."
   ]
  },
  {
   "cell_type": "code",
   "execution_count": 401,
   "metadata": {
    "ExecuteTime": {
     "end_time": "2020-10-15T21:56:45.595653Z",
     "start_time": "2020-10-15T21:56:45.565762Z"
    }
   },
   "outputs": [
    {
     "data": {
      "text/plain": [
       "0   2014-10-13\n",
       "1   2014-12-09\n",
       "2   2015-02-25\n",
       "3   2014-12-09\n",
       "4   2015-02-18\n",
       "Name: date, dtype: datetime64[ns]"
      ]
     },
     "execution_count": 401,
     "metadata": {},
     "output_type": "execute_result"
    }
   ],
   "source": [
    "# convert date to datetime type\n",
    "df['date'] = df['date'].astype('datetime64')\n",
    "\n",
    "# admire our handywork\n",
    "df['date'].head()"
   ]
  },
  {
   "cell_type": "markdown",
   "metadata": {},
   "source": [
    "Huzzah! Moving on."
   ]
  },
  {
   "cell_type": "markdown",
   "metadata": {},
   "source": [
    "Let's create some other features from `date` as well."
   ]
  },
  {
   "cell_type": "code",
   "execution_count": 402,
   "metadata": {
    "ExecuteTime": {
     "end_time": "2020-10-15T21:56:45.626590Z",
     "start_time": "2020-10-15T21:56:45.597669Z"
    }
   },
   "outputs": [
    {
     "data": {
      "text/html": [
       "<div>\n",
       "<style scoped>\n",
       "    .dataframe tbody tr th:only-of-type {\n",
       "        vertical-align: middle;\n",
       "    }\n",
       "\n",
       "    .dataframe tbody tr th {\n",
       "        vertical-align: top;\n",
       "    }\n",
       "\n",
       "    .dataframe thead th {\n",
       "        text-align: right;\n",
       "    }\n",
       "</style>\n",
       "<table border=\"1\" class=\"dataframe\">\n",
       "  <thead>\n",
       "    <tr style=\"text-align: right;\">\n",
       "      <th></th>\n",
       "      <th>id</th>\n",
       "      <th>date</th>\n",
       "      <th>price</th>\n",
       "      <th>bedrooms</th>\n",
       "      <th>bathrooms</th>\n",
       "      <th>sqft_living</th>\n",
       "      <th>sqft_lot</th>\n",
       "      <th>floors</th>\n",
       "      <th>waterfront</th>\n",
       "      <th>view</th>\n",
       "      <th>condition</th>\n",
       "      <th>grade</th>\n",
       "      <th>sqft_above</th>\n",
       "      <th>sqft_basement</th>\n",
       "      <th>yr_built</th>\n",
       "      <th>yr_renovated</th>\n",
       "      <th>zipcode</th>\n",
       "      <th>lat</th>\n",
       "      <th>long</th>\n",
       "      <th>sqft_living15</th>\n",
       "      <th>sqft_lot15</th>\n",
       "      <th>yr_sold</th>\n",
       "      <th>day_of_yr_sold</th>\n",
       "      <th>month_sold</th>\n",
       "    </tr>\n",
       "  </thead>\n",
       "  <tbody>\n",
       "    <tr>\n",
       "      <td>0</td>\n",
       "      <td>7129300520</td>\n",
       "      <td>2014-10-13</td>\n",
       "      <td>221900.0</td>\n",
       "      <td>3</td>\n",
       "      <td>1.00</td>\n",
       "      <td>1180</td>\n",
       "      <td>5650</td>\n",
       "      <td>1.0</td>\n",
       "      <td>0.0</td>\n",
       "      <td>0.0</td>\n",
       "      <td>3</td>\n",
       "      <td>7</td>\n",
       "      <td>1180</td>\n",
       "      <td>0.0</td>\n",
       "      <td>1955</td>\n",
       "      <td>0.0</td>\n",
       "      <td>98178</td>\n",
       "      <td>47.5112</td>\n",
       "      <td>-122.257</td>\n",
       "      <td>1340</td>\n",
       "      <td>5650</td>\n",
       "      <td>2014</td>\n",
       "      <td>286</td>\n",
       "      <td>10</td>\n",
       "    </tr>\n",
       "    <tr>\n",
       "      <td>1</td>\n",
       "      <td>6414100192</td>\n",
       "      <td>2014-12-09</td>\n",
       "      <td>538000.0</td>\n",
       "      <td>3</td>\n",
       "      <td>2.25</td>\n",
       "      <td>2570</td>\n",
       "      <td>7242</td>\n",
       "      <td>2.0</td>\n",
       "      <td>0.0</td>\n",
       "      <td>0.0</td>\n",
       "      <td>3</td>\n",
       "      <td>7</td>\n",
       "      <td>2170</td>\n",
       "      <td>400.0</td>\n",
       "      <td>1951</td>\n",
       "      <td>1991.0</td>\n",
       "      <td>98125</td>\n",
       "      <td>47.7210</td>\n",
       "      <td>-122.319</td>\n",
       "      <td>1690</td>\n",
       "      <td>7639</td>\n",
       "      <td>2014</td>\n",
       "      <td>343</td>\n",
       "      <td>12</td>\n",
       "    </tr>\n",
       "    <tr>\n",
       "      <td>2</td>\n",
       "      <td>5631500400</td>\n",
       "      <td>2015-02-25</td>\n",
       "      <td>180000.0</td>\n",
       "      <td>2</td>\n",
       "      <td>1.00</td>\n",
       "      <td>770</td>\n",
       "      <td>10000</td>\n",
       "      <td>1.0</td>\n",
       "      <td>0.0</td>\n",
       "      <td>0.0</td>\n",
       "      <td>3</td>\n",
       "      <td>6</td>\n",
       "      <td>770</td>\n",
       "      <td>0.0</td>\n",
       "      <td>1933</td>\n",
       "      <td>0.0</td>\n",
       "      <td>98028</td>\n",
       "      <td>47.7379</td>\n",
       "      <td>-122.233</td>\n",
       "      <td>2720</td>\n",
       "      <td>8062</td>\n",
       "      <td>2015</td>\n",
       "      <td>56</td>\n",
       "      <td>2</td>\n",
       "    </tr>\n",
       "    <tr>\n",
       "      <td>3</td>\n",
       "      <td>2487200875</td>\n",
       "      <td>2014-12-09</td>\n",
       "      <td>604000.0</td>\n",
       "      <td>4</td>\n",
       "      <td>3.00</td>\n",
       "      <td>1960</td>\n",
       "      <td>5000</td>\n",
       "      <td>1.0</td>\n",
       "      <td>0.0</td>\n",
       "      <td>0.0</td>\n",
       "      <td>5</td>\n",
       "      <td>7</td>\n",
       "      <td>1050</td>\n",
       "      <td>910.0</td>\n",
       "      <td>1965</td>\n",
       "      <td>0.0</td>\n",
       "      <td>98136</td>\n",
       "      <td>47.5208</td>\n",
       "      <td>-122.393</td>\n",
       "      <td>1360</td>\n",
       "      <td>5000</td>\n",
       "      <td>2014</td>\n",
       "      <td>343</td>\n",
       "      <td>12</td>\n",
       "    </tr>\n",
       "    <tr>\n",
       "      <td>4</td>\n",
       "      <td>1954400510</td>\n",
       "      <td>2015-02-18</td>\n",
       "      <td>510000.0</td>\n",
       "      <td>3</td>\n",
       "      <td>2.00</td>\n",
       "      <td>1680</td>\n",
       "      <td>8080</td>\n",
       "      <td>1.0</td>\n",
       "      <td>0.0</td>\n",
       "      <td>0.0</td>\n",
       "      <td>3</td>\n",
       "      <td>8</td>\n",
       "      <td>1680</td>\n",
       "      <td>0.0</td>\n",
       "      <td>1987</td>\n",
       "      <td>0.0</td>\n",
       "      <td>98074</td>\n",
       "      <td>47.6168</td>\n",
       "      <td>-122.045</td>\n",
       "      <td>1800</td>\n",
       "      <td>7503</td>\n",
       "      <td>2015</td>\n",
       "      <td>49</td>\n",
       "      <td>2</td>\n",
       "    </tr>\n",
       "  </tbody>\n",
       "</table>\n",
       "</div>"
      ],
      "text/plain": [
       "           id       date     price  bedrooms  bathrooms  sqft_living  \\\n",
       "0  7129300520 2014-10-13  221900.0         3       1.00         1180   \n",
       "1  6414100192 2014-12-09  538000.0         3       2.25         2570   \n",
       "2  5631500400 2015-02-25  180000.0         2       1.00          770   \n",
       "3  2487200875 2014-12-09  604000.0         4       3.00         1960   \n",
       "4  1954400510 2015-02-18  510000.0         3       2.00         1680   \n",
       "\n",
       "   sqft_lot  floors  waterfront  view  condition  grade  sqft_above  \\\n",
       "0      5650     1.0         0.0   0.0          3      7        1180   \n",
       "1      7242     2.0         0.0   0.0          3      7        2170   \n",
       "2     10000     1.0         0.0   0.0          3      6         770   \n",
       "3      5000     1.0         0.0   0.0          5      7        1050   \n",
       "4      8080     1.0         0.0   0.0          3      8        1680   \n",
       "\n",
       "   sqft_basement  yr_built  yr_renovated  zipcode      lat     long  \\\n",
       "0            0.0      1955           0.0    98178  47.5112 -122.257   \n",
       "1          400.0      1951        1991.0    98125  47.7210 -122.319   \n",
       "2            0.0      1933           0.0    98028  47.7379 -122.233   \n",
       "3          910.0      1965           0.0    98136  47.5208 -122.393   \n",
       "4            0.0      1987           0.0    98074  47.6168 -122.045   \n",
       "\n",
       "   sqft_living15  sqft_lot15  yr_sold  day_of_yr_sold  month_sold  \n",
       "0           1340        5650     2014             286          10  \n",
       "1           1690        7639     2014             343          12  \n",
       "2           2720        8062     2015              56           2  \n",
       "3           1360        5000     2014             343          12  \n",
       "4           1800        7503     2015              49           2  "
      ]
     },
     "execution_count": 402,
     "metadata": {},
     "output_type": "execute_result"
    }
   ],
   "source": [
    "# create new sale date ordinal features\n",
    "df['yr_sold'] = df['date'].dt.year\n",
    "df['day_of_yr_sold'] = df['date'].dt.dayofyear\n",
    "df['month_sold'] = df['date'].dt.month\n",
    "\n",
    "# admire our handywork\n",
    "df.head()"
   ]
  },
  {
   "cell_type": "markdown",
   "metadata": {},
   "source": [
    "### Examine `bathrooms`"
   ]
  },
  {
   "cell_type": "code",
   "execution_count": 403,
   "metadata": {
    "ExecuteTime": {
     "end_time": "2020-10-15T21:56:45.642547Z",
     "start_time": "2020-10-15T21:56:45.627570Z"
    }
   },
   "outputs": [
    {
     "data": {
      "text/plain": [
       "2.50    5377\n",
       "1.00    3851\n",
       "1.75    3048\n",
       "2.25    2047\n",
       "2.00    1930\n",
       "1.50    1445\n",
       "2.75    1185\n",
       "3.00     753\n",
       "3.50     731\n",
       "3.25     589\n",
       "3.75     155\n",
       "4.00     136\n",
       "4.50     100\n",
       "4.25      79\n",
       "0.75      71\n",
       "4.75      23\n",
       "5.00      21\n",
       "5.25      13\n",
       "5.50      10\n",
       "1.25       9\n",
       "6.00       6\n",
       "5.75       4\n",
       "0.50       4\n",
       "8.00       2\n",
       "6.25       2\n",
       "6.75       2\n",
       "6.50       2\n",
       "7.50       1\n",
       "7.75       1\n",
       "Name: bathrooms, dtype: int64"
      ]
     },
     "execution_count": 403,
     "metadata": {},
     "output_type": "execute_result"
    }
   ],
   "source": [
    "# examine bathrooms\n",
    "df['bathrooms'].value_counts()"
   ]
  },
  {
   "cell_type": "markdown",
   "metadata": {},
   "source": [
    "Seems reasonable. Moving on."
   ]
  },
  {
   "cell_type": "markdown",
   "metadata": {},
   "source": [
    "### Examine `floors`"
   ]
  },
  {
   "cell_type": "code",
   "execution_count": 404,
   "metadata": {
    "ExecuteTime": {
     "end_time": "2020-10-15T21:56:45.658086Z",
     "start_time": "2020-10-15T21:56:45.643105Z"
    }
   },
   "outputs": [
    {
     "data": {
      "text/plain": [
       "1.0    10673\n",
       "2.0     8235\n",
       "1.5     1910\n",
       "3.0      611\n",
       "2.5      161\n",
       "3.5        7\n",
       "Name: floors, dtype: int64"
      ]
     },
     "execution_count": 404,
     "metadata": {},
     "output_type": "execute_result"
    }
   ],
   "source": [
    "# examine floors\n",
    "df['floors'].value_counts()"
   ]
  },
  {
   "cell_type": "markdown",
   "metadata": {},
   "source": [
    "Not super clear what that looks like but I'm told it's a thing; so, it all seems reasonable. Moving on."
   ]
  },
  {
   "cell_type": "markdown",
   "metadata": {},
   "source": [
    "### Examine `grade`"
   ]
  },
  {
   "cell_type": "markdown",
   "metadata": {},
   "source": [
    "Definition\n",
    "\n",
    "**grade** - overall grade given to the housing unit, based on King County grading system"
   ]
  },
  {
   "cell_type": "code",
   "execution_count": 405,
   "metadata": {
    "ExecuteTime": {
     "end_time": "2020-10-15T21:56:45.674046Z",
     "start_time": "2020-10-15T21:56:45.659096Z"
    }
   },
   "outputs": [
    {
     "data": {
      "text/plain": [
       "7     8974\n",
       "8     6065\n",
       "9     2615\n",
       "6     2038\n",
       "10    1134\n",
       "11     399\n",
       "5      242\n",
       "12      89\n",
       "4       27\n",
       "13      13\n",
       "3        1\n",
       "Name: grade, dtype: int64"
      ]
     },
     "execution_count": 405,
     "metadata": {},
     "output_type": "execute_result"
    }
   ],
   "source": [
    "# examine grade\n",
    "df['grade'].value_counts()"
   ]
  },
  {
   "cell_type": "markdown",
   "metadata": {},
   "source": [
    "If it's a grading system, it can be as arbitrary as they like. So, we'll take their word for it."
   ]
  },
  {
   "cell_type": "markdown",
   "metadata": {},
   "source": [
    "### Examine `yr_renovated`"
   ]
  },
  {
   "cell_type": "code",
   "execution_count": 406,
   "metadata": {
    "ExecuteTime": {
     "end_time": "2020-10-15T21:56:45.689011Z",
     "start_time": "2020-10-15T21:56:45.675036Z"
    }
   },
   "outputs": [
    {
     "data": {
      "text/plain": [
       "array([   0., 1991., 2002., 2010., 1992., 2013., 1994., 1978., 2005.,\n",
       "       2003., 1984., 1954., 2014., 2011., 1983., 1945., 1990., 1988.,\n",
       "       1977., 1981., 1995., 2000., 1999., 1998., 1970., 1989., 2004.,\n",
       "       1986., 2007., 1987., 2006., 1985., 2001., 1980., 1971., 1979.,\n",
       "       1997., 1950., 1969., 1948., 2009., 2015., 1974., 2008., 1968.,\n",
       "       2012., 1963., 1951., 1962., 1953., 1993., 1996., 1955., 1982.,\n",
       "       1956., 1940., 1976., 1946., 1975., 1964., 1973., 1957., 1959.,\n",
       "       1960., 1967., 1965., 1934., 1972., 1944., 1958.])"
      ]
     },
     "execution_count": 406,
     "metadata": {},
     "output_type": "execute_result"
    }
   ],
   "source": [
    "# look to see if there are any weird values\n",
    "df['yr_renovated'].unique()"
   ]
  },
  {
   "cell_type": "markdown",
   "metadata": {},
   "source": [
    "No weird values. It probably doesn't need to be a float, though; so, let's change it to int to keep it lighter."
   ]
  },
  {
   "cell_type": "code",
   "execution_count": 407,
   "metadata": {
    "ExecuteTime": {
     "end_time": "2020-10-15T21:56:45.704970Z",
     "start_time": "2020-10-15T21:56:45.690000Z"
    }
   },
   "outputs": [
    {
     "data": {
      "text/plain": [
       "dtype('int64')"
      ]
     },
     "execution_count": 407,
     "metadata": {},
     "output_type": "execute_result"
    }
   ],
   "source": [
    "# convert yr_renovated to int64\n",
    "df['yr_renovated'] = df['yr_renovated'].astype('int64')\n",
    "\n",
    "# admire our handywork\n",
    "df['yr_renovated'].dtype"
   ]
  },
  {
   "cell_type": "code",
   "execution_count": 408,
   "metadata": {
    "ExecuteTime": {
     "end_time": "2020-10-15T21:56:45.720899Z",
     "start_time": "2020-10-15T21:56:45.705977Z"
    },
    "scrolled": true
   },
   "outputs": [
    {
     "name": "stdout",
     "output_type": "stream",
     "text": [
      "<class 'pandas.core.frame.DataFrame'>\n",
      "RangeIndex: 21597 entries, 0 to 21596\n",
      "Data columns (total 24 columns):\n",
      "id                21597 non-null int64\n",
      "date              21597 non-null datetime64[ns]\n",
      "price             21597 non-null float64\n",
      "bedrooms          21597 non-null int64\n",
      "bathrooms         21597 non-null float64\n",
      "sqft_living       21597 non-null int64\n",
      "sqft_lot          21597 non-null int64\n",
      "floors            21597 non-null float64\n",
      "waterfront        21597 non-null float64\n",
      "view              21597 non-null float64\n",
      "condition         21597 non-null int64\n",
      "grade             21597 non-null int64\n",
      "sqft_above        21597 non-null int64\n",
      "sqft_basement     21597 non-null float64\n",
      "yr_built          21597 non-null int64\n",
      "yr_renovated      21597 non-null int64\n",
      "zipcode           21597 non-null int64\n",
      "lat               21597 non-null float64\n",
      "long              21597 non-null float64\n",
      "sqft_living15     21597 non-null int64\n",
      "sqft_lot15        21597 non-null int64\n",
      "yr_sold           21597 non-null int64\n",
      "day_of_yr_sold    21597 non-null int64\n",
      "month_sold        21597 non-null int64\n",
      "dtypes: datetime64[ns](1), float64(8), int64(15)\n",
      "memory usage: 4.0 MB\n"
     ]
    }
   ],
   "source": [
    "df.info()"
   ]
  },
  {
   "cell_type": "markdown",
   "metadata": {},
   "source": [
    "### Export Semi-Cleaned"
   ]
  },
  {
   "cell_type": "code",
   "execution_count": 409,
   "metadata": {
    "ExecuteTime": {
     "end_time": "2020-10-15T21:56:45.735862Z",
     "start_time": "2020-10-15T21:56:45.721924Z"
    }
   },
   "outputs": [],
   "source": [
    "# pickle results\n",
    "with open('../databases/df-semi-cleaned.pickle', 'wb') as f:\n",
    "    # Pickle the 'df' dataframe using the highest protocol available.\n",
    "    pickle.dump(df, f, pickle.HIGHEST_PROTOCOL)"
   ]
  },
  {
   "cell_type": "markdown",
   "metadata": {},
   "source": [
    "## Engineer Some Features"
   ]
  },
  {
   "cell_type": "markdown",
   "metadata": {},
   "source": [
    "Thinking about engineering some fields defined by the difference between when the house was sold and when it was renovated or built. First, let's see what `year_sold` looks like to see if there's much variation in it."
   ]
  },
  {
   "cell_type": "code",
   "execution_count": 410,
   "metadata": {
    "ExecuteTime": {
     "end_time": "2020-10-15T21:56:45.751844Z",
     "start_time": "2020-10-15T21:56:45.736858Z"
    }
   },
   "outputs": [
    {
     "data": {
      "text/plain": [
       "count    21597.000000\n",
       "mean      2014.322962\n",
       "std          0.467619\n",
       "min       2014.000000\n",
       "25%       2014.000000\n",
       "50%       2014.000000\n",
       "75%       2015.000000\n",
       "max       2015.000000\n",
       "Name: yr_sold, dtype: float64"
      ]
     },
     "execution_count": 410,
     "metadata": {},
     "output_type": "execute_result"
    }
   ],
   "source": [
    "df['yr_sold'].describe()"
   ]
  },
  {
   "cell_type": "markdown",
   "metadata": {},
   "source": [
    "Because there isn't much variation in `yr_sold`, there won't be enough variation in difference-based features to distinguish them from the `yr_renovated` and `yr_built` features."
   ]
  },
  {
   "cell_type": "markdown",
   "metadata": {},
   "source": [
    "What about messing with `yr_renovated`?"
   ]
  },
  {
   "cell_type": "code",
   "execution_count": 411,
   "metadata": {
    "ExecuteTime": {
     "end_time": "2020-10-15T21:56:45.907428Z",
     "start_time": "2020-10-15T21:56:45.752815Z"
    },
    "scrolled": true
   },
   "outputs": [
    {
     "data": {
      "text/plain": [
       "<matplotlib.axes._subplots.AxesSubplot at 0x168834edc18>"
      ]
     },
     "metadata": {},
     "output_type": "display_data"
    },
    {
     "data": {
      "text/plain": [
       "count     744.000000\n",
       "mean     1995.928763\n",
       "std        15.599946\n",
       "min      1934.000000\n",
       "25%      1987.000000\n",
       "50%      2000.000000\n",
       "75%      2007.250000\n",
       "max      2015.000000\n",
       "Name: yr_renovated, dtype: float64"
      ]
     },
     "execution_count": 411,
     "metadata": {},
     "output_type": "execute_result"
    },
    {
     "data": {
      "image/png": "[encoded data removed]",
      "text/plain": [
       "<Figure size 576x396 with 1 Axes>"
      ]
     },
     "metadata": {},
     "output_type": "display_data"
    }
   ],
   "source": [
    "display(df[df['yr_renovated'] > 0]['yr_renovated'].hist())\n",
    "df[df['yr_renovated'] > 0]['yr_renovated'].describe()"
   ]
  },
  {
   "cell_type": "code",
   "execution_count": 412,
   "metadata": {
    "ExecuteTime": {
     "end_time": "2020-10-15T21:56:45.923392Z",
     "start_time": "2020-10-15T21:56:45.908426Z"
    }
   },
   "outputs": [
    {
     "data": {
      "text/plain": [
       "0       20853\n",
       "2014       73\n",
       "2003       31\n",
       "2013       31\n",
       "2007       30\n",
       "        ...  \n",
       "1976        1\n",
       "1953        1\n",
       "1951        1\n",
       "1946        1\n",
       "1944        1\n",
       "Name: yr_renovated, Length: 70, dtype: int64"
      ]
     },
     "execution_count": 412,
     "metadata": {},
     "output_type": "execute_result"
    }
   ],
   "source": [
    "df['yr_renovated'].value_counts()"
   ]
  },
  {
   "cell_type": "code",
   "execution_count": 413,
   "metadata": {
    "ExecuteTime": {
     "end_time": "2020-10-15T21:56:46.051065Z",
     "start_time": "2020-10-15T21:56:45.924384Z"
    }
   },
   "outputs": [
    {
     "data": {
      "text/plain": [
       "<matplotlib.axes._subplots.AxesSubplot at 0x1688cf24c50>"
      ]
     },
     "execution_count": 413,
     "metadata": {},
     "output_type": "execute_result"
    },
    {
     "data": {
      "image/png": "[encoded data removed]",
      "text/plain": [
       "<Figure size 576x396 with 1 Axes>"
      ]
     },
     "metadata": {},
     "output_type": "display_data"
    }
   ],
   "source": [
    "# Define bins based on statistics\n",
    "yr_built_bins = [-1, 1900, 1990, 2000, 2020]\n",
    "yr_built_labels = ['none', '1900_to_1990', '1990_to_2000', '2000_to_2020']\n",
    "\n",
    "# Map to bins using pd.cut()\n",
    "pd.cut(df['yr_renovated'], bins = yr_built_bins, labels = yr_built_labels).hist()"
   ]
  },
  {
   "cell_type": "markdown",
   "metadata": {},
   "source": [
    "## Examine Outliers"
   ]
  },
  {
   "cell_type": "markdown",
   "metadata": {},
   "source": [
    "Let's have a look at some of the most extreme outliers from our numerical data."
   ]
  },
  {
   "cell_type": "code",
   "execution_count": 414,
   "metadata": {
    "ExecuteTime": {
     "end_time": "2020-10-15T21:56:46.193660Z",
     "start_time": "2020-10-15T21:56:46.052036Z"
    }
   },
   "outputs": [
    {
     "name": "stdout",
     "output_type": "stream",
     "text": [
      "id\n"
     ]
    },
    {
     "data": {
      "text/plain": [
       "1714     9839300875\n",
       "2494        1000102\n",
       "2495        1000102\n",
       "3197        3800008\n",
       "3257     9842300485\n",
       "3553        3600057\n",
       "4329        6200017\n",
       "4675     9839301055\n",
       "4817     9839301060\n",
       "6729        1200019\n",
       "7614     9842300540\n",
       "8404        1200021\n",
       "8800        2800031\n",
       "11642    9842300036\n",
       "13015    9839301165\n",
       "14236    9839300775\n",
       "15937    9900000190\n",
       "16701       7200080\n",
       "16723    9842300095\n",
       "18506       3600072\n",
       "20963    9895000040\n",
       "21047       5200087\n",
       "Name: id, dtype: int64"
      ]
     },
     "metadata": {},
     "output_type": "display_data"
    },
    {
     "name": "stdout",
     "output_type": "stream",
     "text": [
      "price\n"
     ]
    },
    {
     "data": {
      "text/plain": [
       "465        80000.0\n",
       "1162     5110000.0\n",
       "1313     5300000.0\n",
       "1446     5350000.0\n",
       "2139       82500.0\n",
       "2624     4500000.0\n",
       "3763       84000.0\n",
       "3910     7060000.0\n",
       "4407     5570000.0\n",
       "5860       89000.0\n",
       "7245     7700000.0\n",
       "8085     4670000.0\n",
       "8267       82000.0\n",
       "8629     4490000.0\n",
       "9245     6890000.0\n",
       "10242      85000.0\n",
       "12358    4210000.0\n",
       "13743      86500.0\n",
       "15279      78000.0\n",
       "16184      81000.0\n",
       "16700      85000.0\n",
       "18453      83000.0\n",
       "Name: price, dtype: float64"
      ]
     },
     "metadata": {},
     "output_type": "display_data"
    },
    {
     "name": "stdout",
     "output_type": "stream",
     "text": [
      "bedrooms\n"
     ]
    },
    {
     "data": {
      "text/plain": [
       "4092      9\n",
       "4231      9\n",
       "6073      9\n",
       "8537      9\n",
       "8748     11\n",
       "13301    10\n",
       "15147    10\n",
       "15856    33\n",
       "16830     9\n",
       "18428     9\n",
       "19239    10\n",
       "Name: bedrooms, dtype: int64"
      ]
     },
     "metadata": {},
     "output_type": "display_data"
    },
    {
     "name": "stdout",
     "output_type": "stream",
     "text": [
      "bathrooms\n"
     ]
    },
    {
     "data": {
      "text/plain": [
       "2259     0.50\n",
       "4020     6.75\n",
       "7245     8.00\n",
       "8085     6.75\n",
       "8537     7.50\n",
       "9245     7.75\n",
       "10413    0.50\n",
       "11662    0.50\n",
       "12029    0.50\n",
       "12764    8.00\n",
       "14542    6.25\n",
       "18288    6.25\n",
       "20562    6.50\n",
       "21490    6.50\n",
       "Name: bathrooms, dtype: float64"
      ]
     },
     "metadata": {},
     "output_type": "display_data"
    },
    {
     "name": "stdout",
     "output_type": "stream",
     "text": [
      "sqft_living\n"
     ]
    },
    {
     "data": {
      "text/plain": [
       "465        430\n",
       "860        380\n",
       "1162      8010\n",
       "1166       440\n",
       "1446      8000\n",
       "3910     10040\n",
       "4407      9200\n",
       "7245     12050\n",
       "8085      9640\n",
       "8614       410\n",
       "9245      9890\n",
       "11488      420\n",
       "12063      470\n",
       "12764    13540\n",
       "13398     7880\n",
       "14452      420\n",
       "14542     8670\n",
       "15234      470\n",
       "15367      370\n",
       "18038      460\n",
       "18288     8020\n",
       "21316      390\n",
       "Name: sqft_living, dtype: int64"
      ]
     },
     "metadata": {},
     "output_type": "display_data"
    },
    {
     "name": "stdout",
     "output_type": "stream",
     "text": [
      "sqft_lot\n"
     ]
    },
    {
     "data": {
      "text/plain": [
       "547          649\n",
       "1717     1651359\n",
       "3449         609\n",
       "3945      982998\n",
       "4348         649\n",
       "4437      982278\n",
       "4536      843309\n",
       "5821         572\n",
       "6685      920423\n",
       "7070      881654\n",
       "7206         676\n",
       "7582         600\n",
       "7640     1074218\n",
       "7762     1024068\n",
       "9705      871200\n",
       "15729        520\n",
       "17305    1164794\n",
       "19646        651\n",
       "20436     871200\n",
       "20588        635\n",
       "21503        675\n",
       "21536        638\n",
       "Name: sqft_lot, dtype: int64"
      ]
     },
     "metadata": {},
     "output_type": "display_data"
    },
    {
     "name": "stdout",
     "output_type": "stream",
     "text": [
      "floors\n"
     ]
    },
    {
     "data": {
      "text/plain": [
       "10066    3.5\n",
       "11582    3.5\n",
       "14871    3.5\n",
       "15410    3.5\n",
       "18462    3.5\n",
       "20292    3.5\n",
       "20756    3.5\n",
       "Name: floors, dtype: float64"
      ]
     },
     "metadata": {},
     "output_type": "display_data"
    },
    {
     "name": "stdout",
     "output_type": "stream",
     "text": [
      "waterfront\n"
     ]
    },
    {
     "data": {
      "text/plain": [
       "Series([], Name: waterfront, dtype: float64)"
      ]
     },
     "metadata": {},
     "output_type": "display_data"
    },
    {
     "name": "stdout",
     "output_type": "stream",
     "text": [
      "view\n"
     ]
    },
    {
     "data": {
      "text/plain": [
       "Series([], Name: view, dtype: float64)"
      ]
     },
     "metadata": {},
     "output_type": "display_data"
    },
    {
     "name": "stdout",
     "output_type": "stream",
     "text": [
      "condition\n"
     ]
    },
    {
     "data": {
      "text/plain": [
       "Series([], Name: condition, dtype: int64)"
      ]
     },
     "metadata": {},
     "output_type": "display_data"
    },
    {
     "name": "stdout",
     "output_type": "stream",
     "text": [
      "grade\n"
     ]
    },
    {
     "data": {
      "text/plain": [
       "3220    3\n",
       "Name: grade, dtype: int64"
      ]
     },
     "metadata": {},
     "output_type": "display_data"
    },
    {
     "name": "stdout",
     "output_type": "stream",
     "text": [
      "sqft_above\n"
     ]
    },
    {
     "data": {
      "text/plain": [
       "465       430\n",
       "860       380\n",
       "1166      440\n",
       "1446     6720\n",
       "3910     7680\n",
       "7245     8570\n",
       "8614      410\n",
       "9245     8860\n",
       "11488     420\n",
       "11859    7420\n",
       "12063     470\n",
       "12764    9410\n",
       "13398    7880\n",
       "14452     420\n",
       "15234     470\n",
       "15367     370\n",
       "16759    6660\n",
       "18038     460\n",
       "18288    8020\n",
       "18579    7320\n",
       "19842    7850\n",
       "21316     390\n",
       "Name: sqft_above, dtype: int64"
      ]
     },
     "metadata": {},
     "output_type": "display_data"
    },
    {
     "name": "stdout",
     "output_type": "stream",
     "text": [
      "sqft_basement\n"
     ]
    },
    {
     "data": {
      "text/plain": [
       "4407     3000.0\n",
       "5044     2850.0\n",
       "6622     2720.0\n",
       "7028     2730.0\n",
       "7245     3480.0\n",
       "8085     4820.0\n",
       "10074    3260.0\n",
       "12764    4130.0\n",
       "15035    2610.0\n",
       "15468    3500.0\n",
       "21328    2810.0\n",
       "Name: sqft_basement, dtype: float64"
      ]
     },
     "metadata": {},
     "output_type": "display_data"
    },
    {
     "name": "stdout",
     "output_type": "stream",
     "text": [
      "yr_built\n"
     ]
    },
    {
     "data": {
      "text/plain": [
       "Series([], Name: yr_built, dtype: int64)"
      ]
     },
     "metadata": {},
     "output_type": "display_data"
    },
    {
     "name": "stdout",
     "output_type": "stream",
     "text": [
      "yr_renovated\n"
     ]
    },
    {
     "data": {
      "text/plain": [
       "Series([], Name: yr_renovated, dtype: int64)"
      ]
     },
     "metadata": {},
     "output_type": "display_data"
    },
    {
     "name": "stdout",
     "output_type": "stream",
     "text": [
      "zipcode\n"
     ]
    },
    {
     "data": {
      "text/plain": [
       "Series([], Name: zipcode, dtype: int64)"
      ]
     },
     "metadata": {},
     "output_type": "display_data"
    },
    {
     "name": "stdout",
     "output_type": "stream",
     "text": [
      "lat\n"
     ]
    },
    {
     "data": {
      "text/plain": [
       "306      47.7776\n",
       "401      47.1775\n",
       "591      47.1803\n",
       "2755     47.1776\n",
       "3292     47.1559\n",
       "3692     47.7772\n",
       "6049     47.7775\n",
       "6808     47.7775\n",
       "7712     47.1764\n",
       "9201     47.1808\n",
       "12261    47.1776\n",
       "12546    47.7772\n",
       "12656    47.1647\n",
       "12946    47.7775\n",
       "12993    47.1622\n",
       "13451    47.1795\n",
       "15585    47.1593\n",
       "15752    47.7776\n",
       "15838    47.7774\n",
       "17450    47.7776\n",
       "18011    47.7772\n",
       "Name: lat, dtype: float64"
      ]
     },
     "metadata": {},
     "output_type": "display_data"
    },
    {
     "name": "stdout",
     "output_type": "stream",
     "text": [
      "long\n"
     ]
    },
    {
     "data": {
      "text/plain": [
       "1166    -122.512\n",
       "2587    -121.359\n",
       "2925    -121.315\n",
       "2962    -122.514\n",
       "4199    -121.315\n",
       "4607    -122.509\n",
       "6083    -121.352\n",
       "6096    -122.511\n",
       "8270    -122.511\n",
       "9289    -122.515\n",
       "9436    -122.509\n",
       "10084   -121.352\n",
       "10886   -121.319\n",
       "11171   -122.506\n",
       "11973   -122.507\n",
       "13059   -121.316\n",
       "13236   -121.321\n",
       "13873   -122.519\n",
       "14601   -121.325\n",
       "16927   -121.364\n",
       "19634   -121.364\n",
       "Name: long, dtype: float64"
      ]
     },
     "metadata": {},
     "output_type": "display_data"
    },
    {
     "name": "stdout",
     "output_type": "stream",
     "text": [
      "sqft_living15\n"
     ]
    },
    {
     "data": {
      "text/plain": [
       "1122     5790\n",
       "1528     5600\n",
       "1918      620\n",
       "5446     5790\n",
       "6065      700\n",
       "10362    6110\n",
       "11859    5610\n",
       "12094     460\n",
       "12700    5500\n",
       "13428     399\n",
       "16416    5790\n",
       "17272     460\n",
       "17873     620\n",
       "18035     670\n",
       "19842    6210\n",
       "19882     700\n",
       "19997     690\n",
       "20547    5790\n",
       "20765     690\n",
       "20814    5790\n",
       "21524    5790\n",
       "Name: sqft_living15, dtype: int64"
      ]
     },
     "metadata": {},
     "output_type": "display_data"
    },
    {
     "name": "stdout",
     "output_type": "stream",
     "text": [
      "sqft_lot15\n"
     ]
    },
    {
     "data": {
      "text/plain": [
       "513         660\n",
       "1717     425581\n",
       "3797     434728\n",
       "6685     411962\n",
       "8655     438213\n",
       "9705     871200\n",
       "13451    560617\n",
       "15606    392040\n",
       "17645    386812\n",
       "19141    422967\n",
       "19653       651\n",
       "19711       750\n",
       "20079       755\n",
       "20436    858132\n",
       "20715       750\n",
       "20733       659\n",
       "20891       748\n",
       "20999       748\n",
       "21093       750\n",
       "21121       757\n",
       "21415    392040\n",
       "21520       750\n",
       "Name: sqft_lot15, dtype: int64"
      ]
     },
     "metadata": {},
     "output_type": "display_data"
    },
    {
     "name": "stdout",
     "output_type": "stream",
     "text": [
      "yr_sold\n"
     ]
    },
    {
     "data": {
      "text/plain": [
       "Series([], Name: yr_sold, dtype: int64)"
      ]
     },
     "metadata": {},
     "output_type": "display_data"
    },
    {
     "name": "stdout",
     "output_type": "stream",
     "text": [
      "day_of_yr_sold\n"
     ]
    },
    {
     "data": {
      "text/plain": [
       "Series([], Name: day_of_yr_sold, dtype: int64)"
      ]
     },
     "metadata": {},
     "output_type": "display_data"
    },
    {
     "name": "stdout",
     "output_type": "stream",
     "text": [
      "month_sold\n"
     ]
    },
    {
     "data": {
      "text/plain": [
       "Series([], Name: month_sold, dtype: int64)"
      ]
     },
     "metadata": {},
     "output_type": "display_data"
    }
   ],
   "source": [
    "# get numerical data\n",
    "df_num = df._get_numeric_data()\n",
    "\n",
    "# print extreme outliers\n",
    "for col in df_num.columns:\n",
    "    print(col)\n",
    "    display(df_num[(df_num[col] > df_num[col].quantile(.9995)) | (df_num[col] < df_num[col].quantile(.0005))][col])"
   ]
  },
  {
   "cell_type": "markdown",
   "metadata": {},
   "source": [
    "None of these seem so horrendously outlandish that I'm not willing to move forward with them. If my model doesn't work, let's keep a mental note to come back and evaluate this."
   ]
  },
  {
   "cell_type": "markdown",
   "metadata": {},
   "source": [
    "## Log-Transformation (Normalization)"
   ]
  },
  {
   "cell_type": "markdown",
   "metadata": {},
   "source": [
    "This is where we'll see if we can make any continuous variables more normal. A nice heuristic for continuous variables are features with a high number of unique values."
   ]
  },
  {
   "cell_type": "code",
   "execution_count": 415,
   "metadata": {
    "ExecuteTime": {
     "end_time": "2020-10-15T21:56:46.447978Z",
     "start_time": "2020-10-15T21:56:46.194634Z"
    }
   },
   "outputs": [
    {
     "data": {
      "text/plain": [
       "id                21420\n",
       "date                372\n",
       "price              3622\n",
       "bedrooms             12\n",
       "bathrooms            29\n",
       "sqft_living        1034\n",
       "sqft_lot           9776\n",
       "floors                6\n",
       "waterfront            2\n",
       "view                  5\n",
       "condition             5\n",
       "grade                11\n",
       "sqft_above          942\n",
       "sqft_basement       303\n",
       "yr_built            116\n",
       "yr_renovated         70\n",
       "zipcode              70\n",
       "lat                5033\n",
       "long                751\n",
       "sqft_living15       777\n",
       "sqft_lot15         8682\n",
       "yr_sold               2\n",
       "day_of_yr_sold      356\n",
       "month_sold           12\n",
       "dtype: int64"
      ]
     },
     "execution_count": 415,
     "metadata": {},
     "output_type": "execute_result"
    }
   ],
   "source": [
    "# list unique values by feature\n",
    "df.nunique()"
   ]
  },
  {
   "cell_type": "markdown",
   "metadata": {},
   "source": [
    "Let's use 100 as our baseline since `yr_renovated` and `zipcode` should not be continuous (imho) but `sqft_basement` should be continuous."
   ]
  },
  {
   "cell_type": "code",
   "execution_count": 416,
   "metadata": {
    "ExecuteTime": {
     "end_time": "2020-10-15T21:56:46.669346Z",
     "start_time": "2020-10-15T21:56:46.448954Z"
    }
   },
   "outputs": [
    {
     "data": {
      "text/html": [
       "<div>\n",
       "<style scoped>\n",
       "    .dataframe tbody tr th:only-of-type {\n",
       "        vertical-align: middle;\n",
       "    }\n",
       "\n",
       "    .dataframe tbody tr th {\n",
       "        vertical-align: top;\n",
       "    }\n",
       "\n",
       "    .dataframe thead th {\n",
       "        text-align: right;\n",
       "    }\n",
       "</style>\n",
       "<table border=\"1\" class=\"dataframe\">\n",
       "  <thead>\n",
       "    <tr style=\"text-align: right;\">\n",
       "      <th></th>\n",
       "      <th>id</th>\n",
       "      <th>date</th>\n",
       "      <th>price</th>\n",
       "      <th>sqft_living</th>\n",
       "      <th>sqft_lot</th>\n",
       "      <th>sqft_above</th>\n",
       "      <th>sqft_basement</th>\n",
       "      <th>yr_built</th>\n",
       "      <th>lat</th>\n",
       "      <th>long</th>\n",
       "      <th>sqft_living15</th>\n",
       "      <th>sqft_lot15</th>\n",
       "      <th>day_of_yr_sold</th>\n",
       "    </tr>\n",
       "  </thead>\n",
       "  <tbody>\n",
       "    <tr>\n",
       "      <td>0</td>\n",
       "      <td>7129300520</td>\n",
       "      <td>2014-10-13</td>\n",
       "      <td>221900.0</td>\n",
       "      <td>1180</td>\n",
       "      <td>5650</td>\n",
       "      <td>1180</td>\n",
       "      <td>0.0</td>\n",
       "      <td>1955</td>\n",
       "      <td>47.5112</td>\n",
       "      <td>-122.257</td>\n",
       "      <td>1340</td>\n",
       "      <td>5650</td>\n",
       "      <td>286</td>\n",
       "    </tr>\n",
       "  </tbody>\n",
       "</table>\n",
       "</div>"
      ],
      "text/plain": [
       "           id       date     price  sqft_living  sqft_lot  sqft_above  \\\n",
       "0  7129300520 2014-10-13  221900.0         1180      5650        1180   \n",
       "\n",
       "   sqft_basement  yr_built      lat     long  sqft_living15  sqft_lot15  \\\n",
       "0            0.0      1955  47.5112 -122.257           1340        5650   \n",
       "\n",
       "   day_of_yr_sold  \n",
       "0             286  "
      ]
     },
     "execution_count": 416,
     "metadata": {},
     "output_type": "execute_result"
    }
   ],
   "source": [
    "# select continuous data\n",
    "df_cont = df.loc[:, (df.nunique() > 100)]\n",
    "\n",
    "# admire our handywork\n",
    "df_cont.head(1)"
   ]
  },
  {
   "cell_type": "code",
   "execution_count": 417,
   "metadata": {
    "ExecuteTime": {
     "end_time": "2020-10-15T21:56:46.685304Z",
     "start_time": "2020-10-15T21:56:46.670344Z"
    },
    "scrolled": true
   },
   "outputs": [
    {
     "data": {
      "text/html": [
       "<div>\n",
       "<style scoped>\n",
       "    .dataframe tbody tr th:only-of-type {\n",
       "        vertical-align: middle;\n",
       "    }\n",
       "\n",
       "    .dataframe tbody tr th {\n",
       "        vertical-align: top;\n",
       "    }\n",
       "\n",
       "    .dataframe thead th {\n",
       "        text-align: right;\n",
       "    }\n",
       "</style>\n",
       "<table border=\"1\" class=\"dataframe\">\n",
       "  <thead>\n",
       "    <tr style=\"text-align: right;\">\n",
       "      <th></th>\n",
       "      <th>price</th>\n",
       "      <th>sqft_living</th>\n",
       "      <th>sqft_lot</th>\n",
       "      <th>sqft_above</th>\n",
       "      <th>sqft_basement</th>\n",
       "      <th>sqft_living15</th>\n",
       "      <th>sqft_lot15</th>\n",
       "    </tr>\n",
       "  </thead>\n",
       "  <tbody>\n",
       "    <tr>\n",
       "      <td>0</td>\n",
       "      <td>221900.0</td>\n",
       "      <td>1180</td>\n",
       "      <td>5650</td>\n",
       "      <td>1180</td>\n",
       "      <td>0.0</td>\n",
       "      <td>1340</td>\n",
       "      <td>5650</td>\n",
       "    </tr>\n",
       "  </tbody>\n",
       "</table>\n",
       "</div>"
      ],
      "text/plain": [
       "      price  sqft_living  sqft_lot  sqft_above  sqft_basement  sqft_living15  \\\n",
       "0  221900.0         1180      5650        1180            0.0           1340   \n",
       "\n",
       "   sqft_lot15  \n",
       "0        5650  "
      ]
     },
     "execution_count": 417,
     "metadata": {},
     "output_type": "execute_result"
    }
   ],
   "source": [
    "# drop a few more that snuck through\n",
    "non_cont = ['id', 'date', 'yr_built', 'lat', 'long', 'day_of_yr_sold']\n",
    "df_cont = df_cont.drop(columns=non_cont)\n",
    "\n",
    "# admire our handywork\n",
    "df_cont.head(1)"
   ]
  },
  {
   "cell_type": "markdown",
   "metadata": {},
   "source": [
    "Now let's have a gander at the distributions of our continuous features."
   ]
  },
  {
   "cell_type": "code",
   "execution_count": 418,
   "metadata": {
    "ExecuteTime": {
     "end_time": "2020-10-15T21:56:56.439237Z",
     "start_time": "2020-10-15T21:56:46.686302Z"
    }
   },
   "outputs": [
    {
     "data": {
      "image/png": "[encoded data removed]",
      "text/plain": [
       "<Figure size 1080x1080 with 9 Axes>"
      ]
     },
     "metadata": {},
     "output_type": "display_data"
    }
   ],
   "source": [
    "# plot histograms for continuous features\n",
    "df_cont.hist(figsize=[15,15], bins='auto');"
   ]
  },
  {
   "cell_type": "markdown",
   "metadata": {},
   "source": [
    "Let's get rid of the zero-inflated features, too, since they won't be easy to tweak into a normal shape. They're pseudo-categorical."
   ]
  },
  {
   "cell_type": "code",
   "execution_count": 419,
   "metadata": {
    "ExecuteTime": {
     "end_time": "2020-10-15T21:56:56.454822Z",
     "start_time": "2020-10-15T21:56:56.440320Z"
    },
    "scrolled": true
   },
   "outputs": [
    {
     "data": {
      "text/html": [
       "<div>\n",
       "<style scoped>\n",
       "    .dataframe tbody tr th:only-of-type {\n",
       "        vertical-align: middle;\n",
       "    }\n",
       "\n",
       "    .dataframe tbody tr th {\n",
       "        vertical-align: top;\n",
       "    }\n",
       "\n",
       "    .dataframe thead th {\n",
       "        text-align: right;\n",
       "    }\n",
       "</style>\n",
       "<table border=\"1\" class=\"dataframe\">\n",
       "  <thead>\n",
       "    <tr style=\"text-align: right;\">\n",
       "      <th></th>\n",
       "      <th>price</th>\n",
       "      <th>sqft_living</th>\n",
       "      <th>sqft_above</th>\n",
       "      <th>sqft_living15</th>\n",
       "    </tr>\n",
       "  </thead>\n",
       "  <tbody>\n",
       "    <tr>\n",
       "      <td>0</td>\n",
       "      <td>221900.0</td>\n",
       "      <td>1180</td>\n",
       "      <td>1180</td>\n",
       "      <td>1340</td>\n",
       "    </tr>\n",
       "  </tbody>\n",
       "</table>\n",
       "</div>"
      ],
      "text/plain": [
       "      price  sqft_living  sqft_above  sqft_living15\n",
       "0  221900.0         1180        1180           1340"
      ]
     },
     "execution_count": 419,
     "metadata": {},
     "output_type": "execute_result"
    }
   ],
   "source": [
    "# drop the zero-inflated features\n",
    "zero_inf = ['sqft_lot', 'sqft_lot15', 'sqft_basement']\n",
    "df_cont = df_cont.drop(columns=zero_inf)\n",
    "\n",
    "# admire our handywork\n",
    "df_cont.head(1)"
   ]
  },
  {
   "cell_type": "code",
   "execution_count": 420,
   "metadata": {
    "ExecuteTime": {
     "end_time": "2020-10-15T21:56:57.770285Z",
     "start_time": "2020-10-15T21:56:56.456800Z"
    }
   },
   "outputs": [
    {
     "data": {
      "image/png": "[encoded data removed]",
      "text/plain": [
       "<Figure size 1080x1080 with 4 Axes>"
      ]
     },
     "metadata": {},
     "output_type": "display_data"
    }
   ],
   "source": [
    "# plot histograms for continuous features again\n",
    "df_cont.hist(figsize=[15,15], bins='auto');"
   ]
  },
  {
   "cell_type": "code",
   "execution_count": 421,
   "metadata": {
    "ExecuteTime": {
     "end_time": "2020-10-15T21:56:57.786243Z",
     "start_time": "2020-10-15T21:56:57.772307Z"
    }
   },
   "outputs": [],
   "source": [
    "# get new log transform names\n",
    "log_names = [f'{column}_log' for column in df_cont.columns]\n",
    "\n",
    "# log transform continuous features\n",
    "df_log = np.log(df_cont)\n",
    "\n",
    "# add column names for the log transformed data\n",
    "df_log.columns = log_names"
   ]
  },
  {
   "cell_type": "code",
   "execution_count": 422,
   "metadata": {
    "ExecuteTime": {
     "end_time": "2020-10-15T21:56:57.802199Z",
     "start_time": "2020-10-15T21:56:57.788237Z"
    }
   },
   "outputs": [
    {
     "data": {
      "text/plain": [
       "Index(['price_log', 'sqft_living_log', 'sqft_above_log', 'sqft_living15_log'], dtype='object')"
      ]
     },
     "execution_count": 422,
     "metadata": {},
     "output_type": "execute_result"
    }
   ],
   "source": [
    "# admire\n",
    "df_log.columns"
   ]
  },
  {
   "cell_type": "code",
   "execution_count": 423,
   "metadata": {
    "ExecuteTime": {
     "end_time": "2020-10-15T21:56:57.818178Z",
     "start_time": "2020-10-15T21:56:57.803198Z"
    }
   },
   "outputs": [
    {
     "data": {
      "text/plain": [
       "price_log            0\n",
       "sqft_living_log      0\n",
       "sqft_above_log       0\n",
       "sqft_living15_log    0\n",
       "dtype: int64"
      ]
     },
     "execution_count": 423,
     "metadata": {},
     "output_type": "execute_result"
    }
   ],
   "source": [
    "# check for infinite values due to log(0)\n",
    "df_log.isin([-np.inf]).sum()"
   ]
  },
  {
   "cell_type": "code",
   "execution_count": 424,
   "metadata": {
    "ExecuteTime": {
     "end_time": "2020-10-15T21:56:59.074827Z",
     "start_time": "2020-10-15T21:56:57.820151Z"
    }
   },
   "outputs": [
    {
     "data": {
      "image/png": "[encoded data removed]",
      "text/plain": [
       "<Figure size 720x720 with 4 Axes>"
      ]
     },
     "metadata": {},
     "output_type": "display_data"
    }
   ],
   "source": [
    "# plot log transformed histograms\n",
    "df_log.hist(figsize=(10, 10), bins='auto');"
   ]
  },
  {
   "cell_type": "code",
   "execution_count": 425,
   "metadata": {
    "ExecuteTime": {
     "end_time": "2020-10-15T21:56:59.105752Z",
     "start_time": "2020-10-15T21:56:59.075836Z"
    }
   },
   "outputs": [
    {
     "data": {
      "text/plain": [
       "price            4.023365\n",
       "sqft_living      1.473215\n",
       "sqft_above       1.447434\n",
       "sqft_living15    1.106875\n",
       "dtype: float64"
      ]
     },
     "metadata": {},
     "output_type": "display_data"
    },
    {
     "data": {
      "text/plain": [
       "price_log            0.431004\n",
       "sqft_living_log     -0.027362\n",
       "sqft_above_log       0.259699\n",
       "sqft_living15_log    0.205978\n",
       "dtype: float64"
      ]
     },
     "metadata": {},
     "output_type": "display_data"
    }
   ],
   "source": [
    "# compare skew pre- and post-log\n",
    "display(df[['price', 'sqft_living', 'sqft_above', 'sqft_living15']].skew())\n",
    "display(df_log.skew())"
   ]
  },
  {
   "cell_type": "markdown",
   "metadata": {},
   "source": [
    "`price`, `sqft_above`, `sqft_living15`, and `sqft_living` seem to have improved. So, we'll keep those and add them to the original dataframe."
   ]
  },
  {
   "cell_type": "code",
   "execution_count": 426,
   "metadata": {
    "ExecuteTime": {
     "end_time": "2020-10-15T21:56:59.136654Z",
     "start_time": "2020-10-15T21:56:59.106741Z"
    }
   },
   "outputs": [
    {
     "data": {
      "text/html": [
       "<div>\n",
       "<style scoped>\n",
       "    .dataframe tbody tr th:only-of-type {\n",
       "        vertical-align: middle;\n",
       "    }\n",
       "\n",
       "    .dataframe tbody tr th {\n",
       "        vertical-align: top;\n",
       "    }\n",
       "\n",
       "    .dataframe thead th {\n",
       "        text-align: right;\n",
       "    }\n",
       "</style>\n",
       "<table border=\"1\" class=\"dataframe\">\n",
       "  <thead>\n",
       "    <tr style=\"text-align: right;\">\n",
       "      <th></th>\n",
       "      <th>id</th>\n",
       "      <th>date</th>\n",
       "      <th>price</th>\n",
       "      <th>bedrooms</th>\n",
       "      <th>bathrooms</th>\n",
       "      <th>sqft_living</th>\n",
       "      <th>sqft_lot</th>\n",
       "      <th>floors</th>\n",
       "      <th>waterfront</th>\n",
       "      <th>view</th>\n",
       "      <th>condition</th>\n",
       "      <th>grade</th>\n",
       "      <th>sqft_above</th>\n",
       "      <th>sqft_basement</th>\n",
       "      <th>yr_built</th>\n",
       "      <th>yr_renovated</th>\n",
       "      <th>zipcode</th>\n",
       "      <th>lat</th>\n",
       "      <th>long</th>\n",
       "      <th>sqft_living15</th>\n",
       "      <th>sqft_lot15</th>\n",
       "      <th>yr_sold</th>\n",
       "      <th>day_of_yr_sold</th>\n",
       "      <th>month_sold</th>\n",
       "      <th>price_log</th>\n",
       "      <th>sqft_living_log</th>\n",
       "      <th>sqft_above_log</th>\n",
       "      <th>sqft_living15_log</th>\n",
       "    </tr>\n",
       "  </thead>\n",
       "  <tbody>\n",
       "    <tr>\n",
       "      <td>0</td>\n",
       "      <td>7129300520</td>\n",
       "      <td>2014-10-13</td>\n",
       "      <td>221900.0</td>\n",
       "      <td>3</td>\n",
       "      <td>1.00</td>\n",
       "      <td>1180</td>\n",
       "      <td>5650</td>\n",
       "      <td>1.0</td>\n",
       "      <td>0.0</td>\n",
       "      <td>0.0</td>\n",
       "      <td>3</td>\n",
       "      <td>7</td>\n",
       "      <td>1180</td>\n",
       "      <td>0.0</td>\n",
       "      <td>1955</td>\n",
       "      <td>0</td>\n",
       "      <td>98178</td>\n",
       "      <td>47.5112</td>\n",
       "      <td>-122.257</td>\n",
       "      <td>1340</td>\n",
       "      <td>5650</td>\n",
       "      <td>2014</td>\n",
       "      <td>286</td>\n",
       "      <td>10</td>\n",
       "      <td>12.309982</td>\n",
       "      <td>7.073270</td>\n",
       "      <td>7.073270</td>\n",
       "      <td>7.200425</td>\n",
       "    </tr>\n",
       "    <tr>\n",
       "      <td>1</td>\n",
       "      <td>6414100192</td>\n",
       "      <td>2014-12-09</td>\n",
       "      <td>538000.0</td>\n",
       "      <td>3</td>\n",
       "      <td>2.25</td>\n",
       "      <td>2570</td>\n",
       "      <td>7242</td>\n",
       "      <td>2.0</td>\n",
       "      <td>0.0</td>\n",
       "      <td>0.0</td>\n",
       "      <td>3</td>\n",
       "      <td>7</td>\n",
       "      <td>2170</td>\n",
       "      <td>400.0</td>\n",
       "      <td>1951</td>\n",
       "      <td>1991</td>\n",
       "      <td>98125</td>\n",
       "      <td>47.7210</td>\n",
       "      <td>-122.319</td>\n",
       "      <td>1690</td>\n",
       "      <td>7639</td>\n",
       "      <td>2014</td>\n",
       "      <td>343</td>\n",
       "      <td>12</td>\n",
       "      <td>13.195614</td>\n",
       "      <td>7.851661</td>\n",
       "      <td>7.682482</td>\n",
       "      <td>7.432484</td>\n",
       "    </tr>\n",
       "    <tr>\n",
       "      <td>2</td>\n",
       "      <td>5631500400</td>\n",
       "      <td>2015-02-25</td>\n",
       "      <td>180000.0</td>\n",
       "      <td>2</td>\n",
       "      <td>1.00</td>\n",
       "      <td>770</td>\n",
       "      <td>10000</td>\n",
       "      <td>1.0</td>\n",
       "      <td>0.0</td>\n",
       "      <td>0.0</td>\n",
       "      <td>3</td>\n",
       "      <td>6</td>\n",
       "      <td>770</td>\n",
       "      <td>0.0</td>\n",
       "      <td>1933</td>\n",
       "      <td>0</td>\n",
       "      <td>98028</td>\n",
       "      <td>47.7379</td>\n",
       "      <td>-122.233</td>\n",
       "      <td>2720</td>\n",
       "      <td>8062</td>\n",
       "      <td>2015</td>\n",
       "      <td>56</td>\n",
       "      <td>2</td>\n",
       "      <td>12.100712</td>\n",
       "      <td>6.646391</td>\n",
       "      <td>6.646391</td>\n",
       "      <td>7.908387</td>\n",
       "    </tr>\n",
       "    <tr>\n",
       "      <td>3</td>\n",
       "      <td>2487200875</td>\n",
       "      <td>2014-12-09</td>\n",
       "      <td>604000.0</td>\n",
       "      <td>4</td>\n",
       "      <td>3.00</td>\n",
       "      <td>1960</td>\n",
       "      <td>5000</td>\n",
       "      <td>1.0</td>\n",
       "      <td>0.0</td>\n",
       "      <td>0.0</td>\n",
       "      <td>5</td>\n",
       "      <td>7</td>\n",
       "      <td>1050</td>\n",
       "      <td>910.0</td>\n",
       "      <td>1965</td>\n",
       "      <td>0</td>\n",
       "      <td>98136</td>\n",
       "      <td>47.5208</td>\n",
       "      <td>-122.393</td>\n",
       "      <td>1360</td>\n",
       "      <td>5000</td>\n",
       "      <td>2014</td>\n",
       "      <td>343</td>\n",
       "      <td>12</td>\n",
       "      <td>13.311329</td>\n",
       "      <td>7.580700</td>\n",
       "      <td>6.956545</td>\n",
       "      <td>7.215240</td>\n",
       "    </tr>\n",
       "    <tr>\n",
       "      <td>4</td>\n",
       "      <td>1954400510</td>\n",
       "      <td>2015-02-18</td>\n",
       "      <td>510000.0</td>\n",
       "      <td>3</td>\n",
       "      <td>2.00</td>\n",
       "      <td>1680</td>\n",
       "      <td>8080</td>\n",
       "      <td>1.0</td>\n",
       "      <td>0.0</td>\n",
       "      <td>0.0</td>\n",
       "      <td>3</td>\n",
       "      <td>8</td>\n",
       "      <td>1680</td>\n",
       "      <td>0.0</td>\n",
       "      <td>1987</td>\n",
       "      <td>0</td>\n",
       "      <td>98074</td>\n",
       "      <td>47.6168</td>\n",
       "      <td>-122.045</td>\n",
       "      <td>1800</td>\n",
       "      <td>7503</td>\n",
       "      <td>2015</td>\n",
       "      <td>49</td>\n",
       "      <td>2</td>\n",
       "      <td>13.142166</td>\n",
       "      <td>7.426549</td>\n",
       "      <td>7.426549</td>\n",
       "      <td>7.495542</td>\n",
       "    </tr>\n",
       "  </tbody>\n",
       "</table>\n",
       "</div>"
      ],
      "text/plain": [
       "           id       date     price  bedrooms  bathrooms  sqft_living  \\\n",
       "0  7129300520 2014-10-13  221900.0         3       1.00         1180   \n",
       "1  6414100192 2014-12-09  538000.0         3       2.25         2570   \n",
       "2  5631500400 2015-02-25  180000.0         2       1.00          770   \n",
       "3  2487200875 2014-12-09  604000.0         4       3.00         1960   \n",
       "4  1954400510 2015-02-18  510000.0         3       2.00         1680   \n",
       "\n",
       "   sqft_lot  floors  waterfront  view  condition  grade  sqft_above  \\\n",
       "0      5650     1.0         0.0   0.0          3      7        1180   \n",
       "1      7242     2.0         0.0   0.0          3      7        2170   \n",
       "2     10000     1.0         0.0   0.0          3      6         770   \n",
       "3      5000     1.0         0.0   0.0          5      7        1050   \n",
       "4      8080     1.0         0.0   0.0          3      8        1680   \n",
       "\n",
       "   sqft_basement  yr_built  yr_renovated  zipcode      lat     long  \\\n",
       "0            0.0      1955             0    98178  47.5112 -122.257   \n",
       "1          400.0      1951          1991    98125  47.7210 -122.319   \n",
       "2            0.0      1933             0    98028  47.7379 -122.233   \n",
       "3          910.0      1965             0    98136  47.5208 -122.393   \n",
       "4            0.0      1987             0    98074  47.6168 -122.045   \n",
       "\n",
       "   sqft_living15  sqft_lot15  yr_sold  day_of_yr_sold  month_sold  price_log  \\\n",
       "0           1340        5650     2014             286          10  12.309982   \n",
       "1           1690        7639     2014             343          12  13.195614   \n",
       "2           2720        8062     2015              56           2  12.100712   \n",
       "3           1360        5000     2014             343          12  13.311329   \n",
       "4           1800        7503     2015              49           2  13.142166   \n",
       "\n",
       "   sqft_living_log  sqft_above_log  sqft_living15_log  \n",
       "0         7.073270        7.073270           7.200425  \n",
       "1         7.851661        7.682482           7.432484  \n",
       "2         6.646391        6.646391           7.908387  \n",
       "3         7.580700        6.956545           7.215240  \n",
       "4         7.426549        7.426549           7.495542  "
      ]
     },
     "execution_count": 426,
     "metadata": {},
     "output_type": "execute_result"
    }
   ],
   "source": [
    "# add log transformed features to main df\n",
    "df = pd.concat([df, df_log], axis=1)\n",
    "\n",
    "# admire our handywork\n",
    "df.head()"
   ]
  },
  {
   "cell_type": "markdown",
   "metadata": {},
   "source": [
    "## Convert Zero-Inflated to Binary"
   ]
  },
  {
   "cell_type": "markdown",
   "metadata": {},
   "source": [
    "Since the zero-inflated are mostly zeroes, let's just convert them to 0's and 1's for now to see if there's any difference between the two possibilities: False and True. If there is a significant difference, we come back and dial in investigation a bit more to see if there's a significant relationship within the True category."
   ]
  },
  {
   "cell_type": "code",
   "execution_count": 427,
   "metadata": {
    "ExecuteTime": {
     "end_time": "2020-10-15T21:56:59.183536Z",
     "start_time": "2020-10-15T21:56:59.137631Z"
    }
   },
   "outputs": [
    {
     "data": {
      "text/plain": [
       "waterfront       0.0\n",
       "view             0.0\n",
       "sqft_basement    0.0\n",
       "yr_renovated     0.0\n",
       "dtype: float64"
      ]
     },
     "execution_count": 427,
     "metadata": {},
     "output_type": "execute_result"
    }
   ],
   "source": [
    "# get list of columns with median equal to zero\n",
    "cols = df.columns[((df==0).median()==True)].to_list()\n",
    "df[cols].median()"
   ]
  },
  {
   "cell_type": "code",
   "execution_count": 428,
   "metadata": {
    "ExecuteTime": {
     "end_time": "2020-10-15T21:56:59.230515Z",
     "start_time": "2020-10-15T21:56:59.184530Z"
    }
   },
   "outputs": [
    {
     "data": {
      "text/html": [
       "<div>\n",
       "<style scoped>\n",
       "    .dataframe tbody tr th:only-of-type {\n",
       "        vertical-align: middle;\n",
       "    }\n",
       "\n",
       "    .dataframe tbody tr th {\n",
       "        vertical-align: top;\n",
       "    }\n",
       "\n",
       "    .dataframe thead th {\n",
       "        text-align: right;\n",
       "    }\n",
       "</style>\n",
       "<table border=\"1\" class=\"dataframe\">\n",
       "  <thead>\n",
       "    <tr style=\"text-align: right;\">\n",
       "      <th></th>\n",
       "      <th>id</th>\n",
       "      <th>date</th>\n",
       "      <th>price</th>\n",
       "      <th>bedrooms</th>\n",
       "      <th>bathrooms</th>\n",
       "      <th>sqft_living</th>\n",
       "      <th>sqft_lot</th>\n",
       "      <th>floors</th>\n",
       "      <th>condition</th>\n",
       "      <th>grade</th>\n",
       "      <th>sqft_above</th>\n",
       "      <th>yr_built</th>\n",
       "      <th>zipcode</th>\n",
       "      <th>lat</th>\n",
       "      <th>long</th>\n",
       "      <th>sqft_living15</th>\n",
       "      <th>sqft_lot15</th>\n",
       "      <th>yr_sold</th>\n",
       "      <th>day_of_yr_sold</th>\n",
       "      <th>month_sold</th>\n",
       "      <th>price_log</th>\n",
       "      <th>sqft_living_log</th>\n",
       "      <th>sqft_above_log</th>\n",
       "      <th>sqft_living15_log</th>\n",
       "      <th>waterfront</th>\n",
       "      <th>view</th>\n",
       "      <th>sqft_basement</th>\n",
       "      <th>yr_renovated</th>\n",
       "      <th>waterfront_binary</th>\n",
       "      <th>view_binary</th>\n",
       "      <th>sqft_basement_binary</th>\n",
       "      <th>yr_renovated_binary</th>\n",
       "    </tr>\n",
       "  </thead>\n",
       "  <tbody>\n",
       "    <tr>\n",
       "      <td>0</td>\n",
       "      <td>7129300520</td>\n",
       "      <td>2014-10-13</td>\n",
       "      <td>221900.0</td>\n",
       "      <td>3</td>\n",
       "      <td>1.00</td>\n",
       "      <td>1180</td>\n",
       "      <td>5650</td>\n",
       "      <td>1.0</td>\n",
       "      <td>3</td>\n",
       "      <td>7</td>\n",
       "      <td>1180</td>\n",
       "      <td>1955</td>\n",
       "      <td>98178</td>\n",
       "      <td>47.5112</td>\n",
       "      <td>-122.257</td>\n",
       "      <td>1340</td>\n",
       "      <td>5650</td>\n",
       "      <td>2014</td>\n",
       "      <td>286</td>\n",
       "      <td>10</td>\n",
       "      <td>12.309982</td>\n",
       "      <td>7.073270</td>\n",
       "      <td>7.073270</td>\n",
       "      <td>7.200425</td>\n",
       "      <td>0.0</td>\n",
       "      <td>0.0</td>\n",
       "      <td>0.0</td>\n",
       "      <td>0</td>\n",
       "      <td>0</td>\n",
       "      <td>0</td>\n",
       "      <td>0</td>\n",
       "      <td>0</td>\n",
       "    </tr>\n",
       "    <tr>\n",
       "      <td>1</td>\n",
       "      <td>6414100192</td>\n",
       "      <td>2014-12-09</td>\n",
       "      <td>538000.0</td>\n",
       "      <td>3</td>\n",
       "      <td>2.25</td>\n",
       "      <td>2570</td>\n",
       "      <td>7242</td>\n",
       "      <td>2.0</td>\n",
       "      <td>3</td>\n",
       "      <td>7</td>\n",
       "      <td>2170</td>\n",
       "      <td>1951</td>\n",
       "      <td>98125</td>\n",
       "      <td>47.7210</td>\n",
       "      <td>-122.319</td>\n",
       "      <td>1690</td>\n",
       "      <td>7639</td>\n",
       "      <td>2014</td>\n",
       "      <td>343</td>\n",
       "      <td>12</td>\n",
       "      <td>13.195614</td>\n",
       "      <td>7.851661</td>\n",
       "      <td>7.682482</td>\n",
       "      <td>7.432484</td>\n",
       "      <td>0.0</td>\n",
       "      <td>0.0</td>\n",
       "      <td>400.0</td>\n",
       "      <td>1991</td>\n",
       "      <td>0</td>\n",
       "      <td>0</td>\n",
       "      <td>1</td>\n",
       "      <td>1</td>\n",
       "    </tr>\n",
       "    <tr>\n",
       "      <td>2</td>\n",
       "      <td>5631500400</td>\n",
       "      <td>2015-02-25</td>\n",
       "      <td>180000.0</td>\n",
       "      <td>2</td>\n",
       "      <td>1.00</td>\n",
       "      <td>770</td>\n",
       "      <td>10000</td>\n",
       "      <td>1.0</td>\n",
       "      <td>3</td>\n",
       "      <td>6</td>\n",
       "      <td>770</td>\n",
       "      <td>1933</td>\n",
       "      <td>98028</td>\n",
       "      <td>47.7379</td>\n",
       "      <td>-122.233</td>\n",
       "      <td>2720</td>\n",
       "      <td>8062</td>\n",
       "      <td>2015</td>\n",
       "      <td>56</td>\n",
       "      <td>2</td>\n",
       "      <td>12.100712</td>\n",
       "      <td>6.646391</td>\n",
       "      <td>6.646391</td>\n",
       "      <td>7.908387</td>\n",
       "      <td>0.0</td>\n",
       "      <td>0.0</td>\n",
       "      <td>0.0</td>\n",
       "      <td>0</td>\n",
       "      <td>0</td>\n",
       "      <td>0</td>\n",
       "      <td>0</td>\n",
       "      <td>0</td>\n",
       "    </tr>\n",
       "    <tr>\n",
       "      <td>3</td>\n",
       "      <td>2487200875</td>\n",
       "      <td>2014-12-09</td>\n",
       "      <td>604000.0</td>\n",
       "      <td>4</td>\n",
       "      <td>3.00</td>\n",
       "      <td>1960</td>\n",
       "      <td>5000</td>\n",
       "      <td>1.0</td>\n",
       "      <td>5</td>\n",
       "      <td>7</td>\n",
       "      <td>1050</td>\n",
       "      <td>1965</td>\n",
       "      <td>98136</td>\n",
       "      <td>47.5208</td>\n",
       "      <td>-122.393</td>\n",
       "      <td>1360</td>\n",
       "      <td>5000</td>\n",
       "      <td>2014</td>\n",
       "      <td>343</td>\n",
       "      <td>12</td>\n",
       "      <td>13.311329</td>\n",
       "      <td>7.580700</td>\n",
       "      <td>6.956545</td>\n",
       "      <td>7.215240</td>\n",
       "      <td>0.0</td>\n",
       "      <td>0.0</td>\n",
       "      <td>910.0</td>\n",
       "      <td>0</td>\n",
       "      <td>0</td>\n",
       "      <td>0</td>\n",
       "      <td>1</td>\n",
       "      <td>0</td>\n",
       "    </tr>\n",
       "    <tr>\n",
       "      <td>4</td>\n",
       "      <td>1954400510</td>\n",
       "      <td>2015-02-18</td>\n",
       "      <td>510000.0</td>\n",
       "      <td>3</td>\n",
       "      <td>2.00</td>\n",
       "      <td>1680</td>\n",
       "      <td>8080</td>\n",
       "      <td>1.0</td>\n",
       "      <td>3</td>\n",
       "      <td>8</td>\n",
       "      <td>1680</td>\n",
       "      <td>1987</td>\n",
       "      <td>98074</td>\n",
       "      <td>47.6168</td>\n",
       "      <td>-122.045</td>\n",
       "      <td>1800</td>\n",
       "      <td>7503</td>\n",
       "      <td>2015</td>\n",
       "      <td>49</td>\n",
       "      <td>2</td>\n",
       "      <td>13.142166</td>\n",
       "      <td>7.426549</td>\n",
       "      <td>7.426549</td>\n",
       "      <td>7.495542</td>\n",
       "      <td>0.0</td>\n",
       "      <td>0.0</td>\n",
       "      <td>0.0</td>\n",
       "      <td>0</td>\n",
       "      <td>0</td>\n",
       "      <td>0</td>\n",
       "      <td>0</td>\n",
       "      <td>0</td>\n",
       "    </tr>\n",
       "  </tbody>\n",
       "</table>\n",
       "</div>"
      ],
      "text/plain": [
       "           id       date     price  bedrooms  bathrooms  sqft_living  \\\n",
       "0  7129300520 2014-10-13  221900.0         3       1.00         1180   \n",
       "1  6414100192 2014-12-09  538000.0         3       2.25         2570   \n",
       "2  5631500400 2015-02-25  180000.0         2       1.00          770   \n",
       "3  2487200875 2014-12-09  604000.0         4       3.00         1960   \n",
       "4  1954400510 2015-02-18  510000.0         3       2.00         1680   \n",
       "\n",
       "   sqft_lot  floors  condition  grade  sqft_above  yr_built  zipcode      lat  \\\n",
       "0      5650     1.0          3      7        1180      1955    98178  47.5112   \n",
       "1      7242     2.0          3      7        2170      1951    98125  47.7210   \n",
       "2     10000     1.0          3      6         770      1933    98028  47.7379   \n",
       "3      5000     1.0          5      7        1050      1965    98136  47.5208   \n",
       "4      8080     1.0          3      8        1680      1987    98074  47.6168   \n",
       "\n",
       "      long  sqft_living15  sqft_lot15  yr_sold  day_of_yr_sold  month_sold  \\\n",
       "0 -122.257           1340        5650     2014             286          10   \n",
       "1 -122.319           1690        7639     2014             343          12   \n",
       "2 -122.233           2720        8062     2015              56           2   \n",
       "3 -122.393           1360        5000     2014             343          12   \n",
       "4 -122.045           1800        7503     2015              49           2   \n",
       "\n",
       "   price_log  sqft_living_log  sqft_above_log  sqft_living15_log  waterfront  \\\n",
       "0  12.309982         7.073270        7.073270           7.200425         0.0   \n",
       "1  13.195614         7.851661        7.682482           7.432484         0.0   \n",
       "2  12.100712         6.646391        6.646391           7.908387         0.0   \n",
       "3  13.311329         7.580700        6.956545           7.215240         0.0   \n",
       "4  13.142166         7.426549        7.426549           7.495542         0.0   \n",
       "\n",
       "   view  sqft_basement  yr_renovated  waterfront_binary  view_binary  \\\n",
       "0   0.0            0.0             0                  0            0   \n",
       "1   0.0          400.0          1991                  0            0   \n",
       "2   0.0            0.0             0                  0            0   \n",
       "3   0.0          910.0             0                  0            0   \n",
       "4   0.0            0.0             0                  0            0   \n",
       "\n",
       "   sqft_basement_binary  yr_renovated_binary  \n",
       "0                     0                    0  \n",
       "1                     1                    1  \n",
       "2                     0                    0  \n",
       "3                     1                    0  \n",
       "4                     0                    0  "
      ]
     },
     "execution_count": 428,
     "metadata": {},
     "output_type": "execute_result"
    }
   ],
   "source": [
    "# get a df with just those features\n",
    "df_binary = df[cols]\n",
    "\n",
    "# add the selected features as binary to new df\n",
    "for col in cols:\n",
    "    df_binary[col + '_binary'] = (df[col] > 0) * 1\n",
    "\n",
    "# drop original versions from main df\n",
    "df.drop(columns=cols, inplace=True)\n",
    "\n",
    "# add the new df to the main df\n",
    "df = pd.concat([df, df_binary], axis=1)\n",
    "\n",
    "# admire our handywork\n",
    "df.head()"
   ]
  },
  {
   "cell_type": "markdown",
   "metadata": {},
   "source": [
    "# Export Cleaned Data"
   ]
  },
  {
   "cell_type": "code",
   "execution_count": 429,
   "metadata": {
    "ExecuteTime": {
     "end_time": "2020-10-15T21:56:59.372165Z",
     "start_time": "2020-10-15T21:56:59.231513Z"
    }
   },
   "outputs": [
    {
     "name": "stdout",
     "output_type": "stream",
     "text": [
      "<class 'pandas.core.frame.DataFrame'>\n",
      "RangeIndex: 21597 entries, 0 to 21596\n",
      "Data columns (total 32 columns):\n",
      "id                      21597 non-null int64\n",
      "date                    21597 non-null datetime64[ns]\n",
      "price                   21597 non-null float64\n",
      "bedrooms                21597 non-null int64\n",
      "bathrooms               21597 non-null float64\n",
      "sqft_living             21597 non-null int64\n",
      "sqft_lot                21597 non-null int64\n",
      "floors                  21597 non-null float64\n",
      "condition               21597 non-null int64\n",
      "grade                   21597 non-null int64\n",
      "sqft_above              21597 non-null int64\n",
      "yr_built                21597 non-null int64\n",
      "zipcode                 21597 non-null int64\n",
      "lat                     21597 non-null float64\n",
      "long                    21597 non-null float64\n",
      "sqft_living15           21597 non-null int64\n",
      "sqft_lot15              21597 non-null int64\n",
      "yr_sold                 21597 non-null int64\n",
      "day_of_yr_sold          21597 non-null int64\n",
      "month_sold              21597 non-null int64\n",
      "price_log               21597 non-null float64\n",
      "sqft_living_log         21597 non-null float64\n",
      "sqft_above_log          21597 non-null float64\n",
      "sqft_living15_log       21597 non-null float64\n",
      "waterfront              21597 non-null float64\n",
      "view                    21597 non-null float64\n",
      "sqft_basement           21597 non-null float64\n",
      "yr_renovated            21597 non-null int64\n",
      "waterfront_binary       21597 non-null int32\n",
      "view_binary             21597 non-null int32\n",
      "sqft_basement_binary    21597 non-null int32\n",
      "yr_renovated_binary     21597 non-null int32\n",
      "dtypes: datetime64[ns](1), float64(12), int32(4), int64(15)\n",
      "memory usage: 4.9 MB\n"
     ]
    },
    {
     "data": {
      "text/html": [
       "<div>\n",
       "<style scoped>\n",
       "    .dataframe tbody tr th:only-of-type {\n",
       "        vertical-align: middle;\n",
       "    }\n",
       "\n",
       "    .dataframe tbody tr th {\n",
       "        vertical-align: top;\n",
       "    }\n",
       "\n",
       "    .dataframe thead th {\n",
       "        text-align: right;\n",
       "    }\n",
       "</style>\n",
       "<table border=\"1\" class=\"dataframe\">\n",
       "  <thead>\n",
       "    <tr style=\"text-align: right;\">\n",
       "      <th></th>\n",
       "      <th>id</th>\n",
       "      <th>price</th>\n",
       "      <th>bedrooms</th>\n",
       "      <th>bathrooms</th>\n",
       "      <th>sqft_living</th>\n",
       "      <th>sqft_lot</th>\n",
       "      <th>floors</th>\n",
       "      <th>condition</th>\n",
       "      <th>grade</th>\n",
       "      <th>sqft_above</th>\n",
       "      <th>yr_built</th>\n",
       "      <th>zipcode</th>\n",
       "      <th>lat</th>\n",
       "      <th>long</th>\n",
       "      <th>sqft_living15</th>\n",
       "      <th>sqft_lot15</th>\n",
       "      <th>yr_sold</th>\n",
       "      <th>day_of_yr_sold</th>\n",
       "      <th>month_sold</th>\n",
       "      <th>price_log</th>\n",
       "      <th>sqft_living_log</th>\n",
       "      <th>sqft_above_log</th>\n",
       "      <th>sqft_living15_log</th>\n",
       "      <th>waterfront</th>\n",
       "      <th>view</th>\n",
       "      <th>sqft_basement</th>\n",
       "      <th>yr_renovated</th>\n",
       "      <th>waterfront_binary</th>\n",
       "      <th>view_binary</th>\n",
       "      <th>sqft_basement_binary</th>\n",
       "      <th>yr_renovated_binary</th>\n",
       "    </tr>\n",
       "  </thead>\n",
       "  <tbody>\n",
       "    <tr>\n",
       "      <td>count</td>\n",
       "      <td>2.159700e+04</td>\n",
       "      <td>2.159700e+04</td>\n",
       "      <td>21597.000000</td>\n",
       "      <td>21597.000000</td>\n",
       "      <td>21597.000000</td>\n",
       "      <td>2.159700e+04</td>\n",
       "      <td>21597.000000</td>\n",
       "      <td>21597.000000</td>\n",
       "      <td>21597.000000</td>\n",
       "      <td>21597.000000</td>\n",
       "      <td>21597.000000</td>\n",
       "      <td>21597.000000</td>\n",
       "      <td>21597.000000</td>\n",
       "      <td>21597.000000</td>\n",
       "      <td>21597.000000</td>\n",
       "      <td>21597.000000</td>\n",
       "      <td>21597.000000</td>\n",
       "      <td>21597.000000</td>\n",
       "      <td>21597.000000</td>\n",
       "      <td>21597.000000</td>\n",
       "      <td>21597.000000</td>\n",
       "      <td>21597.000000</td>\n",
       "      <td>21597.000000</td>\n",
       "      <td>21597.000000</td>\n",
       "      <td>21597.000000</td>\n",
       "      <td>21597.000000</td>\n",
       "      <td>21597.000000</td>\n",
       "      <td>21597.000000</td>\n",
       "      <td>21597.000000</td>\n",
       "      <td>21597.00000</td>\n",
       "      <td>21597.000000</td>\n",
       "    </tr>\n",
       "    <tr>\n",
       "      <td>mean</td>\n",
       "      <td>4.580474e+09</td>\n",
       "      <td>5.402966e+05</td>\n",
       "      <td>3.373200</td>\n",
       "      <td>2.115826</td>\n",
       "      <td>2080.321850</td>\n",
       "      <td>1.509941e+04</td>\n",
       "      <td>1.494096</td>\n",
       "      <td>3.409825</td>\n",
       "      <td>7.657915</td>\n",
       "      <td>1788.596842</td>\n",
       "      <td>1970.999676</td>\n",
       "      <td>98077.951845</td>\n",
       "      <td>47.560093</td>\n",
       "      <td>-122.213982</td>\n",
       "      <td>1986.620318</td>\n",
       "      <td>12758.283512</td>\n",
       "      <td>2014.322962</td>\n",
       "      <td>184.300042</td>\n",
       "      <td>6.573969</td>\n",
       "      <td>13.048211</td>\n",
       "      <td>7.550720</td>\n",
       "      <td>7.395148</td>\n",
       "      <td>7.539494</td>\n",
       "      <td>0.006760</td>\n",
       "      <td>0.233181</td>\n",
       "      <td>285.716581</td>\n",
       "      <td>68.758207</td>\n",
       "      <td>0.006760</td>\n",
       "      <td>0.097791</td>\n",
       "      <td>0.38510</td>\n",
       "      <td>0.034449</td>\n",
       "    </tr>\n",
       "    <tr>\n",
       "      <td>std</td>\n",
       "      <td>2.876736e+09</td>\n",
       "      <td>3.673681e+05</td>\n",
       "      <td>0.926299</td>\n",
       "      <td>0.768984</td>\n",
       "      <td>918.106125</td>\n",
       "      <td>4.141264e+04</td>\n",
       "      <td>0.539683</td>\n",
       "      <td>0.650546</td>\n",
       "      <td>1.173200</td>\n",
       "      <td>827.759761</td>\n",
       "      <td>29.375234</td>\n",
       "      <td>53.513072</td>\n",
       "      <td>0.138552</td>\n",
       "      <td>0.140724</td>\n",
       "      <td>685.230472</td>\n",
       "      <td>27274.441950</td>\n",
       "      <td>0.467619</td>\n",
       "      <td>94.737427</td>\n",
       "      <td>3.115061</td>\n",
       "      <td>0.526555</td>\n",
       "      <td>0.424191</td>\n",
       "      <td>0.427140</td>\n",
       "      <td>0.327467</td>\n",
       "      <td>0.081944</td>\n",
       "      <td>0.764673</td>\n",
       "      <td>439.819830</td>\n",
       "      <td>364.037499</td>\n",
       "      <td>0.081944</td>\n",
       "      <td>0.297039</td>\n",
       "      <td>0.48663</td>\n",
       "      <td>0.182384</td>\n",
       "    </tr>\n",
       "    <tr>\n",
       "      <td>min</td>\n",
       "      <td>1.000102e+06</td>\n",
       "      <td>7.800000e+04</td>\n",
       "      <td>1.000000</td>\n",
       "      <td>0.500000</td>\n",
       "      <td>370.000000</td>\n",
       "      <td>5.200000e+02</td>\n",
       "      <td>1.000000</td>\n",
       "      <td>1.000000</td>\n",
       "      <td>3.000000</td>\n",
       "      <td>370.000000</td>\n",
       "      <td>1900.000000</td>\n",
       "      <td>98001.000000</td>\n",
       "      <td>47.155900</td>\n",
       "      <td>-122.519000</td>\n",
       "      <td>399.000000</td>\n",
       "      <td>651.000000</td>\n",
       "      <td>2014.000000</td>\n",
       "      <td>2.000000</td>\n",
       "      <td>1.000000</td>\n",
       "      <td>11.264464</td>\n",
       "      <td>5.913503</td>\n",
       "      <td>5.913503</td>\n",
       "      <td>5.988961</td>\n",
       "      <td>0.000000</td>\n",
       "      <td>0.000000</td>\n",
       "      <td>0.000000</td>\n",
       "      <td>0.000000</td>\n",
       "      <td>0.000000</td>\n",
       "      <td>0.000000</td>\n",
       "      <td>0.00000</td>\n",
       "      <td>0.000000</td>\n",
       "    </tr>\n",
       "    <tr>\n",
       "      <td>25%</td>\n",
       "      <td>2.123049e+09</td>\n",
       "      <td>3.220000e+05</td>\n",
       "      <td>3.000000</td>\n",
       "      <td>1.750000</td>\n",
       "      <td>1430.000000</td>\n",
       "      <td>5.040000e+03</td>\n",
       "      <td>1.000000</td>\n",
       "      <td>3.000000</td>\n",
       "      <td>7.000000</td>\n",
       "      <td>1190.000000</td>\n",
       "      <td>1951.000000</td>\n",
       "      <td>98033.000000</td>\n",
       "      <td>47.471100</td>\n",
       "      <td>-122.328000</td>\n",
       "      <td>1490.000000</td>\n",
       "      <td>5100.000000</td>\n",
       "      <td>2014.000000</td>\n",
       "      <td>110.000000</td>\n",
       "      <td>4.000000</td>\n",
       "      <td>12.682307</td>\n",
       "      <td>7.265430</td>\n",
       "      <td>7.081709</td>\n",
       "      <td>7.306531</td>\n",
       "      <td>0.000000</td>\n",
       "      <td>0.000000</td>\n",
       "      <td>0.000000</td>\n",
       "      <td>0.000000</td>\n",
       "      <td>0.000000</td>\n",
       "      <td>0.000000</td>\n",
       "      <td>0.00000</td>\n",
       "      <td>0.000000</td>\n",
       "    </tr>\n",
       "    <tr>\n",
       "      <td>50%</td>\n",
       "      <td>3.904930e+09</td>\n",
       "      <td>4.500000e+05</td>\n",
       "      <td>3.000000</td>\n",
       "      <td>2.250000</td>\n",
       "      <td>1910.000000</td>\n",
       "      <td>7.618000e+03</td>\n",
       "      <td>1.500000</td>\n",
       "      <td>3.000000</td>\n",
       "      <td>7.000000</td>\n",
       "      <td>1560.000000</td>\n",
       "      <td>1975.000000</td>\n",
       "      <td>98065.000000</td>\n",
       "      <td>47.571800</td>\n",
       "      <td>-122.231000</td>\n",
       "      <td>1840.000000</td>\n",
       "      <td>7620.000000</td>\n",
       "      <td>2014.000000</td>\n",
       "      <td>178.000000</td>\n",
       "      <td>6.000000</td>\n",
       "      <td>13.017003</td>\n",
       "      <td>7.554859</td>\n",
       "      <td>7.352441</td>\n",
       "      <td>7.517521</td>\n",
       "      <td>0.000000</td>\n",
       "      <td>0.000000</td>\n",
       "      <td>0.000000</td>\n",
       "      <td>0.000000</td>\n",
       "      <td>0.000000</td>\n",
       "      <td>0.000000</td>\n",
       "      <td>0.00000</td>\n",
       "      <td>0.000000</td>\n",
       "    </tr>\n",
       "    <tr>\n",
       "      <td>75%</td>\n",
       "      <td>7.308900e+09</td>\n",
       "      <td>6.450000e+05</td>\n",
       "      <td>4.000000</td>\n",
       "      <td>2.500000</td>\n",
       "      <td>2550.000000</td>\n",
       "      <td>1.068500e+04</td>\n",
       "      <td>2.000000</td>\n",
       "      <td>4.000000</td>\n",
       "      <td>8.000000</td>\n",
       "      <td>2210.000000</td>\n",
       "      <td>1997.000000</td>\n",
       "      <td>98118.000000</td>\n",
       "      <td>47.678000</td>\n",
       "      <td>-122.125000</td>\n",
       "      <td>2360.000000</td>\n",
       "      <td>10083.000000</td>\n",
       "      <td>2015.000000</td>\n",
       "      <td>262.000000</td>\n",
       "      <td>9.000000</td>\n",
       "      <td>13.377006</td>\n",
       "      <td>7.843849</td>\n",
       "      <td>7.700748</td>\n",
       "      <td>7.766417</td>\n",
       "      <td>0.000000</td>\n",
       "      <td>0.000000</td>\n",
       "      <td>550.000000</td>\n",
       "      <td>0.000000</td>\n",
       "      <td>0.000000</td>\n",
       "      <td>0.000000</td>\n",
       "      <td>1.00000</td>\n",
       "      <td>0.000000</td>\n",
       "    </tr>\n",
       "    <tr>\n",
       "      <td>max</td>\n",
       "      <td>9.900000e+09</td>\n",
       "      <td>7.700000e+06</td>\n",
       "      <td>33.000000</td>\n",
       "      <td>8.000000</td>\n",
       "      <td>13540.000000</td>\n",
       "      <td>1.651359e+06</td>\n",
       "      <td>3.500000</td>\n",
       "      <td>5.000000</td>\n",
       "      <td>13.000000</td>\n",
       "      <td>9410.000000</td>\n",
       "      <td>2015.000000</td>\n",
       "      <td>98199.000000</td>\n",
       "      <td>47.777600</td>\n",
       "      <td>-121.315000</td>\n",
       "      <td>6210.000000</td>\n",
       "      <td>871200.000000</td>\n",
       "      <td>2015.000000</td>\n",
       "      <td>365.000000</td>\n",
       "      <td>12.000000</td>\n",
       "      <td>15.856731</td>\n",
       "      <td>9.513404</td>\n",
       "      <td>9.149528</td>\n",
       "      <td>8.733916</td>\n",
       "      <td>1.000000</td>\n",
       "      <td>4.000000</td>\n",
       "      <td>4820.000000</td>\n",
       "      <td>2015.000000</td>\n",
       "      <td>1.000000</td>\n",
       "      <td>1.000000</td>\n",
       "      <td>1.00000</td>\n",
       "      <td>1.000000</td>\n",
       "    </tr>\n",
       "  </tbody>\n",
       "</table>\n",
       "</div>"
      ],
      "text/plain": [
       "                 id         price      bedrooms     bathrooms   sqft_living  \\\n",
       "count  2.159700e+04  2.159700e+04  21597.000000  21597.000000  21597.000000   \n",
       "mean   4.580474e+09  5.402966e+05      3.373200      2.115826   2080.321850   \n",
       "std    2.876736e+09  3.673681e+05      0.926299      0.768984    918.106125   \n",
       "min    1.000102e+06  7.800000e+04      1.000000      0.500000    370.000000   \n",
       "25%    2.123049e+09  3.220000e+05      3.000000      1.750000   1430.000000   \n",
       "50%    3.904930e+09  4.500000e+05      3.000000      2.250000   1910.000000   \n",
       "75%    7.308900e+09  6.450000e+05      4.000000      2.500000   2550.000000   \n",
       "max    9.900000e+09  7.700000e+06     33.000000      8.000000  13540.000000   \n",
       "\n",
       "           sqft_lot        floors     condition         grade    sqft_above  \\\n",
       "count  2.159700e+04  21597.000000  21597.000000  21597.000000  21597.000000   \n",
       "mean   1.509941e+04      1.494096      3.409825      7.657915   1788.596842   \n",
       "std    4.141264e+04      0.539683      0.650546      1.173200    827.759761   \n",
       "min    5.200000e+02      1.000000      1.000000      3.000000    370.000000   \n",
       "25%    5.040000e+03      1.000000      3.000000      7.000000   1190.000000   \n",
       "50%    7.618000e+03      1.500000      3.000000      7.000000   1560.000000   \n",
       "75%    1.068500e+04      2.000000      4.000000      8.000000   2210.000000   \n",
       "max    1.651359e+06      3.500000      5.000000     13.000000   9410.000000   \n",
       "\n",
       "           yr_built       zipcode           lat          long  sqft_living15  \\\n",
       "count  21597.000000  21597.000000  21597.000000  21597.000000   21597.000000   \n",
       "mean    1970.999676  98077.951845     47.560093   -122.213982    1986.620318   \n",
       "std       29.375234     53.513072      0.138552      0.140724     685.230472   \n",
       "min     1900.000000  98001.000000     47.155900   -122.519000     399.000000   \n",
       "25%     1951.000000  98033.000000     47.471100   -122.328000    1490.000000   \n",
       "50%     1975.000000  98065.000000     47.571800   -122.231000    1840.000000   \n",
       "75%     1997.000000  98118.000000     47.678000   -122.125000    2360.000000   \n",
       "max     2015.000000  98199.000000     47.777600   -121.315000    6210.000000   \n",
       "\n",
       "          sqft_lot15       yr_sold  day_of_yr_sold    month_sold  \\\n",
       "count   21597.000000  21597.000000    21597.000000  21597.000000   \n",
       "mean    12758.283512   2014.322962      184.300042      6.573969   \n",
       "std     27274.441950      0.467619       94.737427      3.115061   \n",
       "min       651.000000   2014.000000        2.000000      1.000000   \n",
       "25%      5100.000000   2014.000000      110.000000      4.000000   \n",
       "50%      7620.000000   2014.000000      178.000000      6.000000   \n",
       "75%     10083.000000   2015.000000      262.000000      9.000000   \n",
       "max    871200.000000   2015.000000      365.000000     12.000000   \n",
       "\n",
       "          price_log  sqft_living_log  sqft_above_log  sqft_living15_log  \\\n",
       "count  21597.000000     21597.000000    21597.000000       21597.000000   \n",
       "mean      13.048211         7.550720        7.395148           7.539494   \n",
       "std        0.526555         0.424191        0.427140           0.327467   \n",
       "min       11.264464         5.913503        5.913503           5.988961   \n",
       "25%       12.682307         7.265430        7.081709           7.306531   \n",
       "50%       13.017003         7.554859        7.352441           7.517521   \n",
       "75%       13.377006         7.843849        7.700748           7.766417   \n",
       "max       15.856731         9.513404        9.149528           8.733916   \n",
       "\n",
       "         waterfront          view  sqft_basement  yr_renovated  \\\n",
       "count  21597.000000  21597.000000   21597.000000  21597.000000   \n",
       "mean       0.006760      0.233181     285.716581     68.758207   \n",
       "std        0.081944      0.764673     439.819830    364.037499   \n",
       "min        0.000000      0.000000       0.000000      0.000000   \n",
       "25%        0.000000      0.000000       0.000000      0.000000   \n",
       "50%        0.000000      0.000000       0.000000      0.000000   \n",
       "75%        0.000000      0.000000     550.000000      0.000000   \n",
       "max        1.000000      4.000000    4820.000000   2015.000000   \n",
       "\n",
       "       waterfront_binary   view_binary  sqft_basement_binary  \\\n",
       "count       21597.000000  21597.000000           21597.00000   \n",
       "mean            0.006760      0.097791               0.38510   \n",
       "std             0.081944      0.297039               0.48663   \n",
       "min             0.000000      0.000000               0.00000   \n",
       "25%             0.000000      0.000000               0.00000   \n",
       "50%             0.000000      0.000000               0.00000   \n",
       "75%             0.000000      0.000000               1.00000   \n",
       "max             1.000000      1.000000               1.00000   \n",
       "\n",
       "       yr_renovated_binary  \n",
       "count         21597.000000  \n",
       "mean              0.034449  \n",
       "std               0.182384  \n",
       "min               0.000000  \n",
       "25%               0.000000  \n",
       "50%               0.000000  \n",
       "75%               0.000000  \n",
       "max               1.000000  "
      ]
     },
     "metadata": {},
     "output_type": "display_data"
    },
    {
     "data": {
      "text/plain": [
       "None"
      ]
     },
     "metadata": {},
     "output_type": "display_data"
    },
    {
     "data": {
      "text/html": [
       "<div>\n",
       "<style scoped>\n",
       "    .dataframe tbody tr th:only-of-type {\n",
       "        vertical-align: middle;\n",
       "    }\n",
       "\n",
       "    .dataframe tbody tr th {\n",
       "        vertical-align: top;\n",
       "    }\n",
       "\n",
       "    .dataframe thead th {\n",
       "        text-align: right;\n",
       "    }\n",
       "</style>\n",
       "<table border=\"1\" class=\"dataframe\">\n",
       "  <thead>\n",
       "    <tr style=\"text-align: right;\">\n",
       "      <th></th>\n",
       "      <th>id</th>\n",
       "      <th>date</th>\n",
       "      <th>price</th>\n",
       "      <th>bedrooms</th>\n",
       "      <th>bathrooms</th>\n",
       "      <th>sqft_living</th>\n",
       "      <th>sqft_lot</th>\n",
       "      <th>floors</th>\n",
       "      <th>condition</th>\n",
       "      <th>grade</th>\n",
       "      <th>sqft_above</th>\n",
       "      <th>yr_built</th>\n",
       "      <th>zipcode</th>\n",
       "      <th>lat</th>\n",
       "      <th>long</th>\n",
       "      <th>sqft_living15</th>\n",
       "      <th>sqft_lot15</th>\n",
       "      <th>yr_sold</th>\n",
       "      <th>day_of_yr_sold</th>\n",
       "      <th>month_sold</th>\n",
       "      <th>price_log</th>\n",
       "      <th>sqft_living_log</th>\n",
       "      <th>sqft_above_log</th>\n",
       "      <th>sqft_living15_log</th>\n",
       "      <th>waterfront</th>\n",
       "      <th>view</th>\n",
       "      <th>sqft_basement</th>\n",
       "      <th>yr_renovated</th>\n",
       "      <th>waterfront_binary</th>\n",
       "      <th>view_binary</th>\n",
       "      <th>sqft_basement_binary</th>\n",
       "      <th>yr_renovated_binary</th>\n",
       "    </tr>\n",
       "  </thead>\n",
       "  <tbody>\n",
       "    <tr>\n",
       "      <td>0</td>\n",
       "      <td>7129300520</td>\n",
       "      <td>2014-10-13</td>\n",
       "      <td>221900.0</td>\n",
       "      <td>3</td>\n",
       "      <td>1.00</td>\n",
       "      <td>1180</td>\n",
       "      <td>5650</td>\n",
       "      <td>1.0</td>\n",
       "      <td>3</td>\n",
       "      <td>7</td>\n",
       "      <td>1180</td>\n",
       "      <td>1955</td>\n",
       "      <td>98178</td>\n",
       "      <td>47.5112</td>\n",
       "      <td>-122.257</td>\n",
       "      <td>1340</td>\n",
       "      <td>5650</td>\n",
       "      <td>2014</td>\n",
       "      <td>286</td>\n",
       "      <td>10</td>\n",
       "      <td>12.309982</td>\n",
       "      <td>7.073270</td>\n",
       "      <td>7.073270</td>\n",
       "      <td>7.200425</td>\n",
       "      <td>0.0</td>\n",
       "      <td>0.0</td>\n",
       "      <td>0.0</td>\n",
       "      <td>0</td>\n",
       "      <td>0</td>\n",
       "      <td>0</td>\n",
       "      <td>0</td>\n",
       "      <td>0</td>\n",
       "    </tr>\n",
       "    <tr>\n",
       "      <td>1</td>\n",
       "      <td>6414100192</td>\n",
       "      <td>2014-12-09</td>\n",
       "      <td>538000.0</td>\n",
       "      <td>3</td>\n",
       "      <td>2.25</td>\n",
       "      <td>2570</td>\n",
       "      <td>7242</td>\n",
       "      <td>2.0</td>\n",
       "      <td>3</td>\n",
       "      <td>7</td>\n",
       "      <td>2170</td>\n",
       "      <td>1951</td>\n",
       "      <td>98125</td>\n",
       "      <td>47.7210</td>\n",
       "      <td>-122.319</td>\n",
       "      <td>1690</td>\n",
       "      <td>7639</td>\n",
       "      <td>2014</td>\n",
       "      <td>343</td>\n",
       "      <td>12</td>\n",
       "      <td>13.195614</td>\n",
       "      <td>7.851661</td>\n",
       "      <td>7.682482</td>\n",
       "      <td>7.432484</td>\n",
       "      <td>0.0</td>\n",
       "      <td>0.0</td>\n",
       "      <td>400.0</td>\n",
       "      <td>1991</td>\n",
       "      <td>0</td>\n",
       "      <td>0</td>\n",
       "      <td>1</td>\n",
       "      <td>1</td>\n",
       "    </tr>\n",
       "    <tr>\n",
       "      <td>2</td>\n",
       "      <td>5631500400</td>\n",
       "      <td>2015-02-25</td>\n",
       "      <td>180000.0</td>\n",
       "      <td>2</td>\n",
       "      <td>1.00</td>\n",
       "      <td>770</td>\n",
       "      <td>10000</td>\n",
       "      <td>1.0</td>\n",
       "      <td>3</td>\n",
       "      <td>6</td>\n",
       "      <td>770</td>\n",
       "      <td>1933</td>\n",
       "      <td>98028</td>\n",
       "      <td>47.7379</td>\n",
       "      <td>-122.233</td>\n",
       "      <td>2720</td>\n",
       "      <td>8062</td>\n",
       "      <td>2015</td>\n",
       "      <td>56</td>\n",
       "      <td>2</td>\n",
       "      <td>12.100712</td>\n",
       "      <td>6.646391</td>\n",
       "      <td>6.646391</td>\n",
       "      <td>7.908387</td>\n",
       "      <td>0.0</td>\n",
       "      <td>0.0</td>\n",
       "      <td>0.0</td>\n",
       "      <td>0</td>\n",
       "      <td>0</td>\n",
       "      <td>0</td>\n",
       "      <td>0</td>\n",
       "      <td>0</td>\n",
       "    </tr>\n",
       "    <tr>\n",
       "      <td>3</td>\n",
       "      <td>2487200875</td>\n",
       "      <td>2014-12-09</td>\n",
       "      <td>604000.0</td>\n",
       "      <td>4</td>\n",
       "      <td>3.00</td>\n",
       "      <td>1960</td>\n",
       "      <td>5000</td>\n",
       "      <td>1.0</td>\n",
       "      <td>5</td>\n",
       "      <td>7</td>\n",
       "      <td>1050</td>\n",
       "      <td>1965</td>\n",
       "      <td>98136</td>\n",
       "      <td>47.5208</td>\n",
       "      <td>-122.393</td>\n",
       "      <td>1360</td>\n",
       "      <td>5000</td>\n",
       "      <td>2014</td>\n",
       "      <td>343</td>\n",
       "      <td>12</td>\n",
       "      <td>13.311329</td>\n",
       "      <td>7.580700</td>\n",
       "      <td>6.956545</td>\n",
       "      <td>7.215240</td>\n",
       "      <td>0.0</td>\n",
       "      <td>0.0</td>\n",
       "      <td>910.0</td>\n",
       "      <td>0</td>\n",
       "      <td>0</td>\n",
       "      <td>0</td>\n",
       "      <td>1</td>\n",
       "      <td>0</td>\n",
       "    </tr>\n",
       "    <tr>\n",
       "      <td>4</td>\n",
       "      <td>1954400510</td>\n",
       "      <td>2015-02-18</td>\n",
       "      <td>510000.0</td>\n",
       "      <td>3</td>\n",
       "      <td>2.00</td>\n",
       "      <td>1680</td>\n",
       "      <td>8080</td>\n",
       "      <td>1.0</td>\n",
       "      <td>3</td>\n",
       "      <td>8</td>\n",
       "      <td>1680</td>\n",
       "      <td>1987</td>\n",
       "      <td>98074</td>\n",
       "      <td>47.6168</td>\n",
       "      <td>-122.045</td>\n",
       "      <td>1800</td>\n",
       "      <td>7503</td>\n",
       "      <td>2015</td>\n",
       "      <td>49</td>\n",
       "      <td>2</td>\n",
       "      <td>13.142166</td>\n",
       "      <td>7.426549</td>\n",
       "      <td>7.426549</td>\n",
       "      <td>7.495542</td>\n",
       "      <td>0.0</td>\n",
       "      <td>0.0</td>\n",
       "      <td>0.0</td>\n",
       "      <td>0</td>\n",
       "      <td>0</td>\n",
       "      <td>0</td>\n",
       "      <td>0</td>\n",
       "      <td>0</td>\n",
       "    </tr>\n",
       "  </tbody>\n",
       "</table>\n",
       "</div>"
      ],
      "text/plain": [
       "           id       date     price  bedrooms  bathrooms  sqft_living  \\\n",
       "0  7129300520 2014-10-13  221900.0         3       1.00         1180   \n",
       "1  6414100192 2014-12-09  538000.0         3       2.25         2570   \n",
       "2  5631500400 2015-02-25  180000.0         2       1.00          770   \n",
       "3  2487200875 2014-12-09  604000.0         4       3.00         1960   \n",
       "4  1954400510 2015-02-18  510000.0         3       2.00         1680   \n",
       "\n",
       "   sqft_lot  floors  condition  grade  sqft_above  yr_built  zipcode      lat  \\\n",
       "0      5650     1.0          3      7        1180      1955    98178  47.5112   \n",
       "1      7242     2.0          3      7        2170      1951    98125  47.7210   \n",
       "2     10000     1.0          3      6         770      1933    98028  47.7379   \n",
       "3      5000     1.0          5      7        1050      1965    98136  47.5208   \n",
       "4      8080     1.0          3      8        1680      1987    98074  47.6168   \n",
       "\n",
       "      long  sqft_living15  sqft_lot15  yr_sold  day_of_yr_sold  month_sold  \\\n",
       "0 -122.257           1340        5650     2014             286          10   \n",
       "1 -122.319           1690        7639     2014             343          12   \n",
       "2 -122.233           2720        8062     2015              56           2   \n",
       "3 -122.393           1360        5000     2014             343          12   \n",
       "4 -122.045           1800        7503     2015              49           2   \n",
       "\n",
       "   price_log  sqft_living_log  sqft_above_log  sqft_living15_log  waterfront  \\\n",
       "0  12.309982         7.073270        7.073270           7.200425         0.0   \n",
       "1  13.195614         7.851661        7.682482           7.432484         0.0   \n",
       "2  12.100712         6.646391        6.646391           7.908387         0.0   \n",
       "3  13.311329         7.580700        6.956545           7.215240         0.0   \n",
       "4  13.142166         7.426549        7.426549           7.495542         0.0   \n",
       "\n",
       "   view  sqft_basement  yr_renovated  waterfront_binary  view_binary  \\\n",
       "0   0.0            0.0             0                  0            0   \n",
       "1   0.0          400.0          1991                  0            0   \n",
       "2   0.0            0.0             0                  0            0   \n",
       "3   0.0          910.0             0                  0            0   \n",
       "4   0.0            0.0             0                  0            0   \n",
       "\n",
       "   sqft_basement_binary  yr_renovated_binary  \n",
       "0                     0                    0  \n",
       "1                     1                    1  \n",
       "2                     0                    0  \n",
       "3                     1                    0  \n",
       "4                     0                    0  "
      ]
     },
     "metadata": {},
     "output_type": "display_data"
    }
   ],
   "source": [
    "# one last look at our handywork\n",
    "display(df.describe(), df.info(), df.head())"
   ]
  },
  {
   "cell_type": "markdown",
   "metadata": {},
   "source": [
    "Everything looks as it should. Let's export it and begin our Exploratory Data Analysis."
   ]
  },
  {
   "cell_type": "code",
   "execution_count": 430,
   "metadata": {
    "ExecuteTime": {
     "end_time": "2020-10-15T21:56:59.388093Z",
     "start_time": "2020-10-15T21:56:59.373161Z"
    }
   },
   "outputs": [],
   "source": [
    "# pickle results\n",
    "with open('../databases/df-cleaned.pickle', 'wb') as f:\n",
    "    # Pickle the 'df' dataframe using the highest protocol available.\n",
    "    pickle.dump(df, f, pickle.HIGHEST_PROTOCOL)"
   ]
  }
 ],
 "metadata": {
  "kernelspec": {
   "display_name": "Python 3",
   "language": "python",
   "name": "python3"
  },
  "language_info": {
   "codemirror_mode": {
    "name": "ipython",
    "version": 3
   },
   "file_extension": ".py",
   "mimetype": "text/x-python",
   "name": "python",
   "nbconvert_exporter": "python",
   "pygments_lexer": "ipython3",
   "version": "3.7.6"
  },
  "toc": {
   "base_numbering": 1,
   "nav_menu": {},
   "number_sections": true,
   "sideBar": true,
   "skip_h1_title": false,
   "title_cell": "Table of Contents",
   "title_sidebar": "Contents",
   "toc_cell": false,
   "toc_position": {
    "height": "calc(100% - 180px)",
    "left": "10px",
    "top": "150px",
    "width": "285.688px"
   },
   "toc_section_display": true,
   "toc_window_display": true
  }
 },
 "nbformat": 4,
 "nbformat_minor": 4
}
